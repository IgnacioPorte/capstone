{
 "metadata": {
  "language_info": {
   "codemirror_mode": {
    "name": "ipython",
    "version": 3
   },
   "file_extension": ".py",
   "mimetype": "text/x-python",
   "name": "python",
   "nbconvert_exporter": "python",
   "pygments_lexer": "ipython3",
   "version": 3
  },
  "orig_nbformat": 2,
  "kernelspec": {
   "name": "python_defaultSpec_1597198420793",
   "display_name": "Python 3.7.0 64-bit"
  }
 },
 "nbformat": 4,
 "nbformat_minor": 2,
 "cells": [
  {
   "cell_type": "code",
   "execution_count": 6,
   "metadata": {},
   "outputs": [],
   "source": [
    "import pandas as pd\n",
    "import requests\n",
    "import os\n",
    "import folium \n",
    "import matplotlib.cm as cm\n",
    "import matplotlib.colors as colors\n",
    "from bs4 import BeautifulSoup\n",
    "from sklearn.cluster import KMeans\n",
    "from geopy.geocoders import Nominatim \n"
   ]
  },
  {
   "cell_type": "code",
   "execution_count": 25,
   "metadata": {},
   "outputs": [],
   "source": [
    "page = \"https://es.wikipedia.org/wiki/Anexo:Comunas_de_Chile\"\n",
    "soup = BeautifulSoup(requests.get(page).text, \"lxml\")\n"
   ]
  },
  {
   "cell_type": "code",
   "execution_count": 94,
   "metadata": {
    "tags": []
   },
   "outputs": [],
   "source": [
    "table = soup.find(\"table\",{\"class\": \"wikitable sortable\"})\n",
    "column_names=['CUT','Comuna','Emblema', \"Provincia\",'Region','Superficie','Poblacion', \"Densidad\",'idh1','idh2','Latitud', \"Longitud\"]\n",
    "df = pd.DataFrame(columns=column_names)\n",
    "\n",
    "for tr in table.find_all('tr'):\n",
    "    row=[]\n",
    "    for td in tr.find_all('td'):\n",
    "        row.append(td.text.strip())\n",
    "    if len(row)==12:\n",
    "        df.loc[len(df)] = row"
   ]
  },
  {
   "cell_type": "code",
   "execution_count": 95,
   "metadata": {},
   "outputs": [
    {
     "output_type": "execute_result",
     "data": {
      "text/plain": "          Comuna              Region Superficie       Latitud      Longitud\n0          Arica  Arica y Parinacota     4799.4    -18°27'18\"    -70°17'24\"\n1      Camarones  Arica y Parinacota       3927    -19°1'1.2\"   -69°52'1.2\"\n2          Putre  Arica y Parinacota     5902.5     -18°12'0\"  -69°34'58.8\"\n3  General Lagos  Arica y Parinacota     2244.4  -17°39'10.8\"     -69°38'6\"\n4        Iquique            Tarapacá     2242.1  -20°14'38.4\"   -70°8'20.4\"",
      "text/html": "<div>\n<style scoped>\n    .dataframe tbody tr th:only-of-type {\n        vertical-align: middle;\n    }\n\n    .dataframe tbody tr th {\n        vertical-align: top;\n    }\n\n    .dataframe thead th {\n        text-align: right;\n    }\n</style>\n<table border=\"1\" class=\"dataframe\">\n  <thead>\n    <tr style=\"text-align: right;\">\n      <th></th>\n      <th>Comuna</th>\n      <th>Region</th>\n      <th>Superficie</th>\n      <th>Latitud</th>\n      <th>Longitud</th>\n    </tr>\n  </thead>\n  <tbody>\n    <tr>\n      <th>0</th>\n      <td>Arica</td>\n      <td>Arica y Parinacota</td>\n      <td>4799.4</td>\n      <td>-18°27'18\"</td>\n      <td>-70°17'24\"</td>\n    </tr>\n    <tr>\n      <th>1</th>\n      <td>Camarones</td>\n      <td>Arica y Parinacota</td>\n      <td>3927</td>\n      <td>-19°1'1.2\"</td>\n      <td>-69°52'1.2\"</td>\n    </tr>\n    <tr>\n      <th>2</th>\n      <td>Putre</td>\n      <td>Arica y Parinacota</td>\n      <td>5902.5</td>\n      <td>-18°12'0\"</td>\n      <td>-69°34'58.8\"</td>\n    </tr>\n    <tr>\n      <th>3</th>\n      <td>General Lagos</td>\n      <td>Arica y Parinacota</td>\n      <td>2244.4</td>\n      <td>-17°39'10.8\"</td>\n      <td>-69°38'6\"</td>\n    </tr>\n    <tr>\n      <th>4</th>\n      <td>Iquique</td>\n      <td>Tarapacá</td>\n      <td>2242.1</td>\n      <td>-20°14'38.4\"</td>\n      <td>-70°8'20.4\"</td>\n    </tr>\n  </tbody>\n</table>\n</div>"
     },
     "metadata": {},
     "execution_count": 95
    }
   ],
   "source": [
    "df = df.drop(columns=[\"Emblema\",\"idh1\",\"idh2\", \"Poblacion\", \"Provincia\", \"Densidad\", \"CUT\"])\n",
    "df.head()"
   ]
  },
  {
   "cell_type": "code",
   "execution_count": 96,
   "metadata": {},
   "outputs": [
    {
     "output_type": "execute_result",
     "data": {
      "text/plain": "               Comuna                     Region Superficie       Latitud  \\\n294          Santiago  Metropolitana de Santiago       23.2    -33°26'14\"   \n295         Cerrillos  Metropolitana de Santiago         21     -33°30'0\"   \n296       Cerro Navia  Metropolitana de Santiago         11  -33°25'19.2\"   \n297          Conchalí  Metropolitana de Santiago       10.7    -33°22'48\"   \n298         El Bosque  Metropolitana de Santiago       14.2   -33°34'1.2\"   \n299  Estación Central  Metropolitana de Santiago         15  -33°27'32.4\"   \n300        Huechuraba  Metropolitana de Santiago       44.8   -33°22'4.8\"   \n301     Independencia  Metropolitana de Santiago          7  -33°24'46.8\"   \n302       La Cisterna  Metropolitana de Santiago         10  -33°31'44.4\"   \n303        La Florida  Metropolitana de Santiago       70.2    -33°31'30\"   \n304         La Granja  Metropolitana de Santiago         10    -33°31'60\"   \n305        La Pintana  Metropolitana de Santiago       30.6  -33°34'58.8\"   \n306          La Reina  Metropolitana de Santiago         23  -33°26'34.8\"   \n307        Las Condes  Metropolitana de Santiago         99     -33°25'0\"   \n308      Lo Barnechea  Metropolitana de Santiago       1024     -33°21'0\"   \n\n         Longitud  \n294    -70°39'26\"  \n295     -70°43'0\"  \n296     -70°44'6\"  \n297    -70°40'30\"  \n298    -70°40'30\"  \n299  -70°41'56.4\"  \n300   -70°38'2.4\"  \n301  -70°39'57.6\"  \n302  -70°39'46.8\"  \n303  -70°32'16.8\"  \n304    -70°37'30\"  \n305   -70°38'2.4\"  \n306  -70°31'55.2\"  \n307     -70°35'0\"  \n308     -70°31'0\"  ",
      "text/html": "<div>\n<style scoped>\n    .dataframe tbody tr th:only-of-type {\n        vertical-align: middle;\n    }\n\n    .dataframe tbody tr th {\n        vertical-align: top;\n    }\n\n    .dataframe thead th {\n        text-align: right;\n    }\n</style>\n<table border=\"1\" class=\"dataframe\">\n  <thead>\n    <tr style=\"text-align: right;\">\n      <th></th>\n      <th>Comuna</th>\n      <th>Region</th>\n      <th>Superficie</th>\n      <th>Latitud</th>\n      <th>Longitud</th>\n    </tr>\n  </thead>\n  <tbody>\n    <tr>\n      <th>294</th>\n      <td>Santiago</td>\n      <td>Metropolitana de Santiago</td>\n      <td>23.2</td>\n      <td>-33°26'14\"</td>\n      <td>-70°39'26\"</td>\n    </tr>\n    <tr>\n      <th>295</th>\n      <td>Cerrillos</td>\n      <td>Metropolitana de Santiago</td>\n      <td>21</td>\n      <td>-33°30'0\"</td>\n      <td>-70°43'0\"</td>\n    </tr>\n    <tr>\n      <th>296</th>\n      <td>Cerro Navia</td>\n      <td>Metropolitana de Santiago</td>\n      <td>11</td>\n      <td>-33°25'19.2\"</td>\n      <td>-70°44'6\"</td>\n    </tr>\n    <tr>\n      <th>297</th>\n      <td>Conchalí</td>\n      <td>Metropolitana de Santiago</td>\n      <td>10.7</td>\n      <td>-33°22'48\"</td>\n      <td>-70°40'30\"</td>\n    </tr>\n    <tr>\n      <th>298</th>\n      <td>El Bosque</td>\n      <td>Metropolitana de Santiago</td>\n      <td>14.2</td>\n      <td>-33°34'1.2\"</td>\n      <td>-70°40'30\"</td>\n    </tr>\n    <tr>\n      <th>299</th>\n      <td>Estación Central</td>\n      <td>Metropolitana de Santiago</td>\n      <td>15</td>\n      <td>-33°27'32.4\"</td>\n      <td>-70°41'56.4\"</td>\n    </tr>\n    <tr>\n      <th>300</th>\n      <td>Huechuraba</td>\n      <td>Metropolitana de Santiago</td>\n      <td>44.8</td>\n      <td>-33°22'4.8\"</td>\n      <td>-70°38'2.4\"</td>\n    </tr>\n    <tr>\n      <th>301</th>\n      <td>Independencia</td>\n      <td>Metropolitana de Santiago</td>\n      <td>7</td>\n      <td>-33°24'46.8\"</td>\n      <td>-70°39'57.6\"</td>\n    </tr>\n    <tr>\n      <th>302</th>\n      <td>La Cisterna</td>\n      <td>Metropolitana de Santiago</td>\n      <td>10</td>\n      <td>-33°31'44.4\"</td>\n      <td>-70°39'46.8\"</td>\n    </tr>\n    <tr>\n      <th>303</th>\n      <td>La Florida</td>\n      <td>Metropolitana de Santiago</td>\n      <td>70.2</td>\n      <td>-33°31'30\"</td>\n      <td>-70°32'16.8\"</td>\n    </tr>\n    <tr>\n      <th>304</th>\n      <td>La Granja</td>\n      <td>Metropolitana de Santiago</td>\n      <td>10</td>\n      <td>-33°31'60\"</td>\n      <td>-70°37'30\"</td>\n    </tr>\n    <tr>\n      <th>305</th>\n      <td>La Pintana</td>\n      <td>Metropolitana de Santiago</td>\n      <td>30.6</td>\n      <td>-33°34'58.8\"</td>\n      <td>-70°38'2.4\"</td>\n    </tr>\n    <tr>\n      <th>306</th>\n      <td>La Reina</td>\n      <td>Metropolitana de Santiago</td>\n      <td>23</td>\n      <td>-33°26'34.8\"</td>\n      <td>-70°31'55.2\"</td>\n    </tr>\n    <tr>\n      <th>307</th>\n      <td>Las Condes</td>\n      <td>Metropolitana de Santiago</td>\n      <td>99</td>\n      <td>-33°25'0\"</td>\n      <td>-70°35'0\"</td>\n    </tr>\n    <tr>\n      <th>308</th>\n      <td>Lo Barnechea</td>\n      <td>Metropolitana de Santiago</td>\n      <td>1024</td>\n      <td>-33°21'0\"</td>\n      <td>-70°31'0\"</td>\n    </tr>\n  </tbody>\n</table>\n</div>"
     },
     "metadata": {},
     "execution_count": 96
    }
   ],
   "source": [
    "df = df[df[\"Region\"] == \"Metropolitana de Santiago\"]\n",
    "df.head(15)"
   ]
  },
  {
   "cell_type": "code",
   "execution_count": 107,
   "metadata": {},
   "outputs": [],
   "source": [
    "def dms2dd(degrees, minutes, seconds):\n",
    "    if float(degrees) < 0:\n",
    "        dd = float(degrees) - float(minutes)/60 - float(seconds)/(60*60)\n",
    "    else:\n",
    "        dd = float(degrees) + float(minutes)/60 + float(seconds)/(60*60)\n",
    "    return dd\n",
    "\n",
    "def parse_dms(dms):\n",
    "    parts = dms.replace(\"°\", \"'\").replace('\"', \"\").split(\"'\")\n",
    "    lat = dms2dd(parts[0], parts[1], parts[2])\n",
    "\n",
    "    return (lat)"
   ]
  },
  {
   "cell_type": "code",
   "execution_count": 111,
   "metadata": {
    "tags": []
   },
   "outputs": [],
   "source": [
    "df[\"Latitud\"] = df[\"Latitud\"].apply(parse_dms)\n",
    "df[\"Longitud\"] = df[\"Longitud\"].apply(parse_dms)"
   ]
  },
  {
   "cell_type": "code",
   "execution_count": 112,
   "metadata": {},
   "outputs": [
    {
     "output_type": "execute_result",
     "data": {
      "text/plain": "                  Comuna                     Region Superficie    Latitud  \\\n294             Santiago  Metropolitana de Santiago       23.2 -33.437222   \n295            Cerrillos  Metropolitana de Santiago         21 -33.500000   \n296          Cerro Navia  Metropolitana de Santiago         11 -33.422000   \n297             Conchalí  Metropolitana de Santiago       10.7 -33.380000   \n298            El Bosque  Metropolitana de Santiago       14.2 -33.567000   \n299     Estación Central  Metropolitana de Santiago         15 -33.459000   \n300           Huechuraba  Metropolitana de Santiago       44.8 -33.368000   \n301        Independencia  Metropolitana de Santiago          7 -33.413000   \n302          La Cisterna  Metropolitana de Santiago         10 -33.529000   \n303           La Florida  Metropolitana de Santiago       70.2 -33.525000   \n304            La Granja  Metropolitana de Santiago         10 -33.533333   \n305           La Pintana  Metropolitana de Santiago       30.6 -33.583000   \n306             La Reina  Metropolitana de Santiago         23 -33.443000   \n307           Las Condes  Metropolitana de Santiago         99 -33.416667   \n308         Lo Barnechea  Metropolitana de Santiago       1024 -33.350000   \n309            Lo Espejo  Metropolitana de Santiago          7 -33.522000   \n310             Lo Prado  Metropolitana de Santiago          7 -33.445000   \n311                Macul  Metropolitana de Santiago       12.9 -33.487000   \n312                Maipú  Metropolitana de Santiago      135.5 -33.516667   \n313                Ñuñoa  Metropolitana de Santiago       16.9 -33.454000   \n314  Pedro Aguirre Cerda  Metropolitana de Santiago         10 -33.466333   \n315            Peñalolén  Metropolitana de Santiago         54 -33.486189   \n316          Providencia  Metropolitana de Santiago       14.3 -33.435000   \n317             Pudahuel  Metropolitana de Santiago        197 -33.433333   \n318            Quilicura  Metropolitana de Santiago         58 -33.361000   \n319        Quinta Normal  Metropolitana de Santiago         13 -33.427000   \n320             Recoleta  Metropolitana de Santiago         16 -33.406000   \n321                Renca  Metropolitana de Santiago         24 -33.398000   \n322          San Joaquín  Metropolitana de Santiago        9.7 -33.491000   \n323           San Miguel  Metropolitana de Santiago       10.0 -33.485833   \n\n      Longitud  \n294 -70.657222  \n295 -70.716667  \n296 -70.735000  \n297 -70.675000  \n298 -70.675000  \n299 -70.699000  \n300 -70.634000  \n301 -70.666000  \n302 -70.663000  \n303 -70.538000  \n304 -70.625000  \n305 -70.634000  \n306 -70.532000  \n307 -70.583333  \n308 -70.516667  \n309 -70.687000  \n310 -70.726000  \n311 -70.604000  \n312 -70.766667  \n313 -70.604000  \n314 -70.633667  \n315 -70.533333  \n316 -70.616000  \n317 -70.716667  \n318 -70.729000  \n319 -70.699000  \n320 -70.640000  \n321 -70.723000  \n322 -70.628000  \n323 -70.649444  ",
      "text/html": "<div>\n<style scoped>\n    .dataframe tbody tr th:only-of-type {\n        vertical-align: middle;\n    }\n\n    .dataframe tbody tr th {\n        vertical-align: top;\n    }\n\n    .dataframe thead th {\n        text-align: right;\n    }\n</style>\n<table border=\"1\" class=\"dataframe\">\n  <thead>\n    <tr style=\"text-align: right;\">\n      <th></th>\n      <th>Comuna</th>\n      <th>Region</th>\n      <th>Superficie</th>\n      <th>Latitud</th>\n      <th>Longitud</th>\n    </tr>\n  </thead>\n  <tbody>\n    <tr>\n      <th>294</th>\n      <td>Santiago</td>\n      <td>Metropolitana de Santiago</td>\n      <td>23.2</td>\n      <td>-33.437222</td>\n      <td>-70.657222</td>\n    </tr>\n    <tr>\n      <th>295</th>\n      <td>Cerrillos</td>\n      <td>Metropolitana de Santiago</td>\n      <td>21</td>\n      <td>-33.500000</td>\n      <td>-70.716667</td>\n    </tr>\n    <tr>\n      <th>296</th>\n      <td>Cerro Navia</td>\n      <td>Metropolitana de Santiago</td>\n      <td>11</td>\n      <td>-33.422000</td>\n      <td>-70.735000</td>\n    </tr>\n    <tr>\n      <th>297</th>\n      <td>Conchalí</td>\n      <td>Metropolitana de Santiago</td>\n      <td>10.7</td>\n      <td>-33.380000</td>\n      <td>-70.675000</td>\n    </tr>\n    <tr>\n      <th>298</th>\n      <td>El Bosque</td>\n      <td>Metropolitana de Santiago</td>\n      <td>14.2</td>\n      <td>-33.567000</td>\n      <td>-70.675000</td>\n    </tr>\n    <tr>\n      <th>299</th>\n      <td>Estación Central</td>\n      <td>Metropolitana de Santiago</td>\n      <td>15</td>\n      <td>-33.459000</td>\n      <td>-70.699000</td>\n    </tr>\n    <tr>\n      <th>300</th>\n      <td>Huechuraba</td>\n      <td>Metropolitana de Santiago</td>\n      <td>44.8</td>\n      <td>-33.368000</td>\n      <td>-70.634000</td>\n    </tr>\n    <tr>\n      <th>301</th>\n      <td>Independencia</td>\n      <td>Metropolitana de Santiago</td>\n      <td>7</td>\n      <td>-33.413000</td>\n      <td>-70.666000</td>\n    </tr>\n    <tr>\n      <th>302</th>\n      <td>La Cisterna</td>\n      <td>Metropolitana de Santiago</td>\n      <td>10</td>\n      <td>-33.529000</td>\n      <td>-70.663000</td>\n    </tr>\n    <tr>\n      <th>303</th>\n      <td>La Florida</td>\n      <td>Metropolitana de Santiago</td>\n      <td>70.2</td>\n      <td>-33.525000</td>\n      <td>-70.538000</td>\n    </tr>\n    <tr>\n      <th>304</th>\n      <td>La Granja</td>\n      <td>Metropolitana de Santiago</td>\n      <td>10</td>\n      <td>-33.533333</td>\n      <td>-70.625000</td>\n    </tr>\n    <tr>\n      <th>305</th>\n      <td>La Pintana</td>\n      <td>Metropolitana de Santiago</td>\n      <td>30.6</td>\n      <td>-33.583000</td>\n      <td>-70.634000</td>\n    </tr>\n    <tr>\n      <th>306</th>\n      <td>La Reina</td>\n      <td>Metropolitana de Santiago</td>\n      <td>23</td>\n      <td>-33.443000</td>\n      <td>-70.532000</td>\n    </tr>\n    <tr>\n      <th>307</th>\n      <td>Las Condes</td>\n      <td>Metropolitana de Santiago</td>\n      <td>99</td>\n      <td>-33.416667</td>\n      <td>-70.583333</td>\n    </tr>\n    <tr>\n      <th>308</th>\n      <td>Lo Barnechea</td>\n      <td>Metropolitana de Santiago</td>\n      <td>1024</td>\n      <td>-33.350000</td>\n      <td>-70.516667</td>\n    </tr>\n    <tr>\n      <th>309</th>\n      <td>Lo Espejo</td>\n      <td>Metropolitana de Santiago</td>\n      <td>7</td>\n      <td>-33.522000</td>\n      <td>-70.687000</td>\n    </tr>\n    <tr>\n      <th>310</th>\n      <td>Lo Prado</td>\n      <td>Metropolitana de Santiago</td>\n      <td>7</td>\n      <td>-33.445000</td>\n      <td>-70.726000</td>\n    </tr>\n    <tr>\n      <th>311</th>\n      <td>Macul</td>\n      <td>Metropolitana de Santiago</td>\n      <td>12.9</td>\n      <td>-33.487000</td>\n      <td>-70.604000</td>\n    </tr>\n    <tr>\n      <th>312</th>\n      <td>Maipú</td>\n      <td>Metropolitana de Santiago</td>\n      <td>135.5</td>\n      <td>-33.516667</td>\n      <td>-70.766667</td>\n    </tr>\n    <tr>\n      <th>313</th>\n      <td>Ñuñoa</td>\n      <td>Metropolitana de Santiago</td>\n      <td>16.9</td>\n      <td>-33.454000</td>\n      <td>-70.604000</td>\n    </tr>\n    <tr>\n      <th>314</th>\n      <td>Pedro Aguirre Cerda</td>\n      <td>Metropolitana de Santiago</td>\n      <td>10</td>\n      <td>-33.466333</td>\n      <td>-70.633667</td>\n    </tr>\n    <tr>\n      <th>315</th>\n      <td>Peñalolén</td>\n      <td>Metropolitana de Santiago</td>\n      <td>54</td>\n      <td>-33.486189</td>\n      <td>-70.533333</td>\n    </tr>\n    <tr>\n      <th>316</th>\n      <td>Providencia</td>\n      <td>Metropolitana de Santiago</td>\n      <td>14.3</td>\n      <td>-33.435000</td>\n      <td>-70.616000</td>\n    </tr>\n    <tr>\n      <th>317</th>\n      <td>Pudahuel</td>\n      <td>Metropolitana de Santiago</td>\n      <td>197</td>\n      <td>-33.433333</td>\n      <td>-70.716667</td>\n    </tr>\n    <tr>\n      <th>318</th>\n      <td>Quilicura</td>\n      <td>Metropolitana de Santiago</td>\n      <td>58</td>\n      <td>-33.361000</td>\n      <td>-70.729000</td>\n    </tr>\n    <tr>\n      <th>319</th>\n      <td>Quinta Normal</td>\n      <td>Metropolitana de Santiago</td>\n      <td>13</td>\n      <td>-33.427000</td>\n      <td>-70.699000</td>\n    </tr>\n    <tr>\n      <th>320</th>\n      <td>Recoleta</td>\n      <td>Metropolitana de Santiago</td>\n      <td>16</td>\n      <td>-33.406000</td>\n      <td>-70.640000</td>\n    </tr>\n    <tr>\n      <th>321</th>\n      <td>Renca</td>\n      <td>Metropolitana de Santiago</td>\n      <td>24</td>\n      <td>-33.398000</td>\n      <td>-70.723000</td>\n    </tr>\n    <tr>\n      <th>322</th>\n      <td>San Joaquín</td>\n      <td>Metropolitana de Santiago</td>\n      <td>9.7</td>\n      <td>-33.491000</td>\n      <td>-70.628000</td>\n    </tr>\n    <tr>\n      <th>323</th>\n      <td>San Miguel</td>\n      <td>Metropolitana de Santiago</td>\n      <td>10.0</td>\n      <td>-33.485833</td>\n      <td>-70.649444</td>\n    </tr>\n  </tbody>\n</table>\n</div>"
     },
     "metadata": {},
     "execution_count": 112
    }
   ],
   "source": [
    "df.head(30)"
   ]
  },
  {
   "cell_type": "code",
   "execution_count": 113,
   "metadata": {},
   "outputs": [],
   "source": [
    "CLIENT_ID = 'UJX0HF0KI0FCRJNZ10MKPGWOYATKIJH0QLG4KQFGMBHN0LA4'\n",
    "CLIENT_SECRET = 'JRZQRGXVK0VZS3B24UEBKKY4ZTJWLGE1RPCWRZJMKEKHDIXK'\n",
    "VERSION = '20180604'"
   ]
  },
  {
   "cell_type": "code",
   "execution_count": 116,
   "metadata": {},
   "outputs": [],
   "source": [
    "def getNearbyVenues(names, latitudes, longitudes):\n",
    "    radius=500\n",
    "    LIMIT=100\n",
    "    venues_list=[]\n",
    "    for name, lat, lng in zip(names, latitudes, longitudes):\n",
    "        print(name)\n",
    "            \n",
    "        # create the API request URL\n",
    "        url = 'https://api.foursquare.com/v2/venues/explore?&client_id={}&client_secret={}&v={}&ll={},{}&radius={}&limit={}'.format(\n",
    "            CLIENT_ID, \n",
    "            CLIENT_SECRET, \n",
    "            VERSION, \n",
    "            lat, \n",
    "            lng, \n",
    "            radius, \n",
    "            LIMIT)\n",
    "            \n",
    "        # make the GET request\n",
    "        results = requests.get(url).json()[\"response\"]['groups'][0]['items']\n",
    "        \n",
    "        # return only relevant information for each nearby venue\n",
    "        venues_list.append([(\n",
    "            name, \n",
    "            lat, \n",
    "            lng, \n",
    "            v['venue']['name'], \n",
    "            v['venue']['location']['lat'], \n",
    "            v['venue']['location']['lng'],  \n",
    "            v['venue']['categories'][0]['name']) for v in results])\n",
    "\n",
    "    nearby_venues = pd.DataFrame([item for venue_list in venues_list for item in venue_list])\n",
    "    nearby_venues.columns = ['Neighborhood', \n",
    "                  'Neighborhood Latitude', \n",
    "                  'Neighborhood Longitude', \n",
    "                  'Venue', \n",
    "                  'Venue Latitude', \n",
    "                  'Venue Longitude', \n",
    "                  'Venue Category']\n",
    "    \n",
    "    return(nearby_venues)"
   ]
  },
  {
   "cell_type": "code",
   "execution_count": 117,
   "metadata": {
    "tags": []
   },
   "outputs": [
    {
     "output_type": "stream",
     "name": "stdout",
     "text": "Santiago\nCerrillos\nCerro Navia\nConchalí\nEl Bosque\nEstación Central\nHuechuraba\nIndependencia\nLa Cisterna\nLa Florida\nLa Granja\nLa Pintana\nLa Reina\nLas Condes\nLo Barnechea\nLo Espejo\nLo Prado\nMacul\nMaipú\nÑuñoa\nPedro Aguirre Cerda\nPeñalolén\nProvidencia\nPudahuel\nQuilicura\nQuinta Normal\nRecoleta\nRenca\nSan Joaquín\nSan Miguel\nSan Ramón\nVitacura\nPuente Alto\nPirque\nSan José de Maipo\nColina\nLampa\nTil Til\nSan Bernardo\nBuin\nCalera de Tango\nPaine\nMelipilla\nAlhué\nCuracaví\nMaría Pinto\nSan Pedro\nTalagante\nEl Monte\nIsla de Maipo\nPadre Hurtado\nPeñaflor\n"
    }
   ],
   "source": [
    "santiago_venues = getNearbyVenues(names=df['Comuna'],\n",
    "                                   latitudes=df['Latitud'],\n",
    "                                   longitudes=df['Longitud']\n",
    "                                  )"
   ]
  },
  {
   "cell_type": "code",
   "execution_count": 121,
   "metadata": {},
   "outputs": [
    {
     "output_type": "execute_result",
     "data": {
      "text/plain": "array(['Plaza', 'Coffee Shop', 'Pool', 'Asian Restaurant',\n       'Arepa Restaurant', 'Sandwich Place', 'Peruvian Restaurant',\n       'Deli / Bodega', 'Museum', 'Market', 'Bed & Breakfast',\n       'Bookstore', 'Sushi Restaurant', 'Burger Joint', 'Juice Bar',\n       'History Museum', 'Gourmet Shop', 'Falafel Restaurant', 'Bakery',\n       'Yoga Studio', 'Ice Cream Shop', 'Gym / Fitness Center',\n       'Shopping Mall', 'Pizza Place', 'Mediterranean Restaurant',\n       'Fried Chicken Joint', 'Donut Shop', 'Pie Shop', 'Diner', 'Café',\n       'Concert Hall', 'South American Restaurant', 'Boutique',\n       'Japanese Restaurant', 'Dance Studio', 'Bar', 'Gastropub',\n       'Dive Bar', 'Italian Restaurant', 'Cafeteria', 'Food Service',\n       'Restaurant', 'Stadium', 'Breakfast Spot', 'Miscellaneous Shop',\n       'Fast Food Restaurant', 'Chinese Restaurant', 'Park',\n       'Liquor Store', 'Cupcake Shop', 'Gym', 'Pharmacy', 'Dessert Shop',\n       'Snack Place', 'Greek Restaurant', 'Food', 'Hot Dog Joint',\n       'Salad Place', 'Grocery Store', 'Arts & Entertainment',\n       'Department Store', 'Residential Building (Apartment / Condo)',\n       'Argentinian Restaurant', 'Food Truck', 'Outdoors & Recreation',\n       'Basketball Court', 'Bus Station', 'Candy Store', 'Soccer Stadium',\n       'Farmers Market', 'Fish & Chips Shop', 'Playground',\n       'General Entertainment', 'Cosmetics Shop', 'Board Shop',\n       'Creperie', 'Massage Studio', 'Food & Drink Shop', 'Bike Shop',\n       'Hotel', 'Golf Course', 'French Restaurant',\n       'Other Great Outdoors', 'BBQ Joint', 'Thai Restaurant',\n       'Supermarket', 'Tennis Court', 'Arts & Crafts Store',\n       'Soccer Field', 'Convenience Store', 'Nightclub', 'Wings Joint',\n       'Metro Station', 'Garden Center', 'Athletics & Sports',\n       'Gymnastics Gym', 'Pastry Shop', 'Jewelry Store', 'Pet Store',\n       'Trail', 'Spa', 'Furniture / Home Store', 'Tapas Restaurant',\n       'Video Store', 'Health Food Store',\n       'Paper / Office Supplies Store', 'Electronics Store',\n       'Veterinarian', 'Theater', 'Pub', 'Indian Restaurant',\n       'Southern / Soul Food Restaurant', 'Tattoo Parlor', 'Hostel',\n       'Health & Beauty Service', 'Pool Hall', 'Bus Stop',\n       'Moving Target', 'Seafood Restaurant', 'Hardware Store', 'Dog Run',\n       'Sports Bar', 'Beach', 'Sports Club', 'Latin American Restaurant',\n       'Movie Theater', 'Bridal Shop', 'Wine Shop', 'Steakhouse',\n       'Bistro', 'Wine Bar', 'Clothing Store', 'Comedy Club', 'Lounge',\n       'Art Gallery', 'Comfort Food Restaurant', 'Campground', 'Farm',\n       'Flea Market', 'Antique Shop', 'Cajun / Creole Restaurant',\n       'Brewery', 'Basketball Stadium', 'American Restaurant',\n       'Rest Area'], dtype=object)"
     },
     "metadata": {},
     "execution_count": 121
    }
   ],
   "source": [
    "santiago_venues[\"Venue Category\"].unique()"
   ]
  },
  {
   "cell_type": "code",
   "execution_count": null,
   "metadata": {},
   "outputs": [],
   "source": []
  }
 ]
}