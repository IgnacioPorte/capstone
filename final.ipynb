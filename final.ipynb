{
 "metadata": {
  "language_info": {
   "codemirror_mode": {
    "name": "ipython",
    "version": 3
   },
   "file_extension": ".py",
   "mimetype": "text/x-python",
   "name": "python",
   "nbconvert_exporter": "python",
   "pygments_lexer": "ipython3",
   "version": 3
  },
  "orig_nbformat": 2,
  "kernelspec": {
   "name": "python_defaultSpec_1597198420793",
   "display_name": "Python 3.7.0 64-bit"
  }
 },
 "nbformat": 4,
 "nbformat_minor": 2,
 "cells": [
  {
   "cell_type": "markdown",
   "metadata": {},
   "source": [
    "# Clasificación de vecindarios por comunas en Chile"
   ]
  },
  {
   "cell_type": "markdown",
   "metadata": {},
   "source": [
    "## Importamos las librerías"
   ]
  },
  {
   "cell_type": "code",
   "execution_count": 154,
   "metadata": {},
   "outputs": [],
   "source": [
    "import pandas as pd\n",
    "import numpy as np\n",
    "import requests\n",
    "import os\n",
    "import folium \n",
    "import matplotlib.cm as cm\n",
    "import matplotlib.colors as colors\n",
    "from bs4 import BeautifulSoup\n",
    "from sklearn.cluster import KMeans\n",
    "from geopy.geocoders import Nominatim \n"
   ]
  },
  {
   "cell_type": "markdown",
   "metadata": {},
   "source": [
    "## Obtenemos los datos de wikipedia haciendo scraping"
   ]
  },
  {
   "cell_type": "code",
   "execution_count": 155,
   "metadata": {},
   "outputs": [],
   "source": [
    "page = \"https://es.wikipedia.org/wiki/Anexo:Comunas_de_Chile\"\n",
    "soup = BeautifulSoup(requests.get(page).text, \"lxml\")\n"
   ]
  },
  {
   "cell_type": "code",
   "execution_count": 156,
   "metadata": {
    "tags": []
   },
   "outputs": [],
   "source": [
    "table = soup.find(\"table\",{\"class\": \"wikitable sortable\"})\n",
    "column_names=['CUT','Comuna','Emblema', \"Provincia\",'Region','Superficie','Poblacion', \"Densidad\",'idh1','idh2','Latitud', \"Longitud\"]\n",
    "df = pd.DataFrame(columns=column_names)\n",
    "\n",
    "for tr in table.find_all('tr'):\n",
    "    row=[]\n",
    "    for td in tr.find_all('td'):\n",
    "        row.append(td.text.strip())\n",
    "    if len(row)==12:\n",
    "        df.loc[len(df)] = row"
   ]
  },
  {
   "cell_type": "markdown",
   "metadata": {},
   "source": [
    "## Limpiamos los datos"
   ]
  },
  {
   "cell_type": "code",
   "execution_count": 157,
   "metadata": {},
   "outputs": [
    {
     "output_type": "execute_result",
     "data": {
      "text/plain": "          Comuna              Region Superficie       Latitud      Longitud\n0          Arica  Arica y Parinacota     4799.4    -18°27'18\"    -70°17'24\"\n1      Camarones  Arica y Parinacota       3927    -19°1'1.2\"   -69°52'1.2\"\n2          Putre  Arica y Parinacota     5902.5     -18°12'0\"  -69°34'58.8\"\n3  General Lagos  Arica y Parinacota     2244.4  -17°39'10.8\"     -69°38'6\"\n4        Iquique            Tarapacá     2242.1  -20°14'38.4\"   -70°8'20.4\"",
      "text/html": "<div>\n<style scoped>\n    .dataframe tbody tr th:only-of-type {\n        vertical-align: middle;\n    }\n\n    .dataframe tbody tr th {\n        vertical-align: top;\n    }\n\n    .dataframe thead th {\n        text-align: right;\n    }\n</style>\n<table border=\"1\" class=\"dataframe\">\n  <thead>\n    <tr style=\"text-align: right;\">\n      <th></th>\n      <th>Comuna</th>\n      <th>Region</th>\n      <th>Superficie</th>\n      <th>Latitud</th>\n      <th>Longitud</th>\n    </tr>\n  </thead>\n  <tbody>\n    <tr>\n      <th>0</th>\n      <td>Arica</td>\n      <td>Arica y Parinacota</td>\n      <td>4799.4</td>\n      <td>-18°27'18\"</td>\n      <td>-70°17'24\"</td>\n    </tr>\n    <tr>\n      <th>1</th>\n      <td>Camarones</td>\n      <td>Arica y Parinacota</td>\n      <td>3927</td>\n      <td>-19°1'1.2\"</td>\n      <td>-69°52'1.2\"</td>\n    </tr>\n    <tr>\n      <th>2</th>\n      <td>Putre</td>\n      <td>Arica y Parinacota</td>\n      <td>5902.5</td>\n      <td>-18°12'0\"</td>\n      <td>-69°34'58.8\"</td>\n    </tr>\n    <tr>\n      <th>3</th>\n      <td>General Lagos</td>\n      <td>Arica y Parinacota</td>\n      <td>2244.4</td>\n      <td>-17°39'10.8\"</td>\n      <td>-69°38'6\"</td>\n    </tr>\n    <tr>\n      <th>4</th>\n      <td>Iquique</td>\n      <td>Tarapacá</td>\n      <td>2242.1</td>\n      <td>-20°14'38.4\"</td>\n      <td>-70°8'20.4\"</td>\n    </tr>\n  </tbody>\n</table>\n</div>"
     },
     "metadata": {},
     "execution_count": 157
    }
   ],
   "source": [
    "df = df.drop(columns=[\"Emblema\",\"idh1\",\"idh2\", \"Poblacion\", \"Provincia\", \"Densidad\", \"CUT\"])\n",
    "df.head()"
   ]
  },
  {
   "cell_type": "code",
   "execution_count": 158,
   "metadata": {},
   "outputs": [
    {
     "output_type": "execute_result",
     "data": {
      "text/plain": "               Comuna                     Region Superficie       Latitud  \\\n294          Santiago  Metropolitana de Santiago       23.2    -33°26'14\"   \n295         Cerrillos  Metropolitana de Santiago         21     -33°30'0\"   \n296       Cerro Navia  Metropolitana de Santiago         11  -33°25'19.2\"   \n297          Conchalí  Metropolitana de Santiago       10.7    -33°22'48\"   \n298         El Bosque  Metropolitana de Santiago       14.2   -33°34'1.2\"   \n299  Estación Central  Metropolitana de Santiago         15  -33°27'32.4\"   \n300        Huechuraba  Metropolitana de Santiago       44.8   -33°22'4.8\"   \n301     Independencia  Metropolitana de Santiago          7  -33°24'46.8\"   \n302       La Cisterna  Metropolitana de Santiago         10  -33°31'44.4\"   \n303        La Florida  Metropolitana de Santiago       70.2    -33°31'30\"   \n304         La Granja  Metropolitana de Santiago         10    -33°31'60\"   \n305        La Pintana  Metropolitana de Santiago       30.6  -33°34'58.8\"   \n306          La Reina  Metropolitana de Santiago         23  -33°26'34.8\"   \n307        Las Condes  Metropolitana de Santiago         99     -33°25'0\"   \n308      Lo Barnechea  Metropolitana de Santiago       1024     -33°21'0\"   \n\n         Longitud  \n294    -70°39'26\"  \n295     -70°43'0\"  \n296     -70°44'6\"  \n297    -70°40'30\"  \n298    -70°40'30\"  \n299  -70°41'56.4\"  \n300   -70°38'2.4\"  \n301  -70°39'57.6\"  \n302  -70°39'46.8\"  \n303  -70°32'16.8\"  \n304    -70°37'30\"  \n305   -70°38'2.4\"  \n306  -70°31'55.2\"  \n307     -70°35'0\"  \n308     -70°31'0\"  ",
      "text/html": "<div>\n<style scoped>\n    .dataframe tbody tr th:only-of-type {\n        vertical-align: middle;\n    }\n\n    .dataframe tbody tr th {\n        vertical-align: top;\n    }\n\n    .dataframe thead th {\n        text-align: right;\n    }\n</style>\n<table border=\"1\" class=\"dataframe\">\n  <thead>\n    <tr style=\"text-align: right;\">\n      <th></th>\n      <th>Comuna</th>\n      <th>Region</th>\n      <th>Superficie</th>\n      <th>Latitud</th>\n      <th>Longitud</th>\n    </tr>\n  </thead>\n  <tbody>\n    <tr>\n      <th>294</th>\n      <td>Santiago</td>\n      <td>Metropolitana de Santiago</td>\n      <td>23.2</td>\n      <td>-33°26'14\"</td>\n      <td>-70°39'26\"</td>\n    </tr>\n    <tr>\n      <th>295</th>\n      <td>Cerrillos</td>\n      <td>Metropolitana de Santiago</td>\n      <td>21</td>\n      <td>-33°30'0\"</td>\n      <td>-70°43'0\"</td>\n    </tr>\n    <tr>\n      <th>296</th>\n      <td>Cerro Navia</td>\n      <td>Metropolitana de Santiago</td>\n      <td>11</td>\n      <td>-33°25'19.2\"</td>\n      <td>-70°44'6\"</td>\n    </tr>\n    <tr>\n      <th>297</th>\n      <td>Conchalí</td>\n      <td>Metropolitana de Santiago</td>\n      <td>10.7</td>\n      <td>-33°22'48\"</td>\n      <td>-70°40'30\"</td>\n    </tr>\n    <tr>\n      <th>298</th>\n      <td>El Bosque</td>\n      <td>Metropolitana de Santiago</td>\n      <td>14.2</td>\n      <td>-33°34'1.2\"</td>\n      <td>-70°40'30\"</td>\n    </tr>\n    <tr>\n      <th>299</th>\n      <td>Estación Central</td>\n      <td>Metropolitana de Santiago</td>\n      <td>15</td>\n      <td>-33°27'32.4\"</td>\n      <td>-70°41'56.4\"</td>\n    </tr>\n    <tr>\n      <th>300</th>\n      <td>Huechuraba</td>\n      <td>Metropolitana de Santiago</td>\n      <td>44.8</td>\n      <td>-33°22'4.8\"</td>\n      <td>-70°38'2.4\"</td>\n    </tr>\n    <tr>\n      <th>301</th>\n      <td>Independencia</td>\n      <td>Metropolitana de Santiago</td>\n      <td>7</td>\n      <td>-33°24'46.8\"</td>\n      <td>-70°39'57.6\"</td>\n    </tr>\n    <tr>\n      <th>302</th>\n      <td>La Cisterna</td>\n      <td>Metropolitana de Santiago</td>\n      <td>10</td>\n      <td>-33°31'44.4\"</td>\n      <td>-70°39'46.8\"</td>\n    </tr>\n    <tr>\n      <th>303</th>\n      <td>La Florida</td>\n      <td>Metropolitana de Santiago</td>\n      <td>70.2</td>\n      <td>-33°31'30\"</td>\n      <td>-70°32'16.8\"</td>\n    </tr>\n    <tr>\n      <th>304</th>\n      <td>La Granja</td>\n      <td>Metropolitana de Santiago</td>\n      <td>10</td>\n      <td>-33°31'60\"</td>\n      <td>-70°37'30\"</td>\n    </tr>\n    <tr>\n      <th>305</th>\n      <td>La Pintana</td>\n      <td>Metropolitana de Santiago</td>\n      <td>30.6</td>\n      <td>-33°34'58.8\"</td>\n      <td>-70°38'2.4\"</td>\n    </tr>\n    <tr>\n      <th>306</th>\n      <td>La Reina</td>\n      <td>Metropolitana de Santiago</td>\n      <td>23</td>\n      <td>-33°26'34.8\"</td>\n      <td>-70°31'55.2\"</td>\n    </tr>\n    <tr>\n      <th>307</th>\n      <td>Las Condes</td>\n      <td>Metropolitana de Santiago</td>\n      <td>99</td>\n      <td>-33°25'0\"</td>\n      <td>-70°35'0\"</td>\n    </tr>\n    <tr>\n      <th>308</th>\n      <td>Lo Barnechea</td>\n      <td>Metropolitana de Santiago</td>\n      <td>1024</td>\n      <td>-33°21'0\"</td>\n      <td>-70°31'0\"</td>\n    </tr>\n  </tbody>\n</table>\n</div>"
     },
     "metadata": {},
     "execution_count": 158
    }
   ],
   "source": [
    "df = df[df[\"Region\"] == \"Metropolitana de Santiago\"]\n",
    "df.head(15)"
   ]
  },
  {
   "cell_type": "markdown",
   "metadata": {},
   "source": [
    "## Arreglamos el formato de las coordenadas"
   ]
  },
  {
   "cell_type": "code",
   "execution_count": 159,
   "metadata": {},
   "outputs": [],
   "source": [
    "def dms2dd(degrees, minutes, seconds):\n",
    "    if float(degrees) < 0:\n",
    "        dd = float(degrees) - float(minutes)/60 - float(seconds)/(60*60)\n",
    "    else:\n",
    "        dd = float(degrees) + float(minutes)/60 + float(seconds)/(60*60)\n",
    "    return dd\n",
    "\n",
    "def parse_dms(dms):\n",
    "    parts = dms.replace(\"°\", \"'\").replace('\"', \"\").split(\"'\")\n",
    "    lat = dms2dd(parts[0], parts[1], parts[2])\n",
    "\n",
    "    return (lat)"
   ]
  },
  {
   "cell_type": "code",
   "execution_count": 160,
   "metadata": {
    "tags": []
   },
   "outputs": [],
   "source": [
    "df[\"Latitud\"] = df[\"Latitud\"].apply(parse_dms)\n",
    "df[\"Longitud\"] = df[\"Longitud\"].apply(parse_dms)"
   ]
  },
  {
   "cell_type": "code",
   "execution_count": 161,
   "metadata": {},
   "outputs": [
    {
     "output_type": "execute_result",
     "data": {
      "text/plain": "                  Comuna                     Region Superficie    Latitud  \\\n294             Santiago  Metropolitana de Santiago       23.2 -33.437222   \n295            Cerrillos  Metropolitana de Santiago         21 -33.500000   \n296          Cerro Navia  Metropolitana de Santiago         11 -33.422000   \n297             Conchalí  Metropolitana de Santiago       10.7 -33.380000   \n298            El Bosque  Metropolitana de Santiago       14.2 -33.567000   \n299     Estación Central  Metropolitana de Santiago         15 -33.459000   \n300           Huechuraba  Metropolitana de Santiago       44.8 -33.368000   \n301        Independencia  Metropolitana de Santiago          7 -33.413000   \n302          La Cisterna  Metropolitana de Santiago         10 -33.529000   \n303           La Florida  Metropolitana de Santiago       70.2 -33.525000   \n304            La Granja  Metropolitana de Santiago         10 -33.533333   \n305           La Pintana  Metropolitana de Santiago       30.6 -33.583000   \n306             La Reina  Metropolitana de Santiago         23 -33.443000   \n307           Las Condes  Metropolitana de Santiago         99 -33.416667   \n308         Lo Barnechea  Metropolitana de Santiago       1024 -33.350000   \n309            Lo Espejo  Metropolitana de Santiago          7 -33.522000   \n310             Lo Prado  Metropolitana de Santiago          7 -33.445000   \n311                Macul  Metropolitana de Santiago       12.9 -33.487000   \n312                Maipú  Metropolitana de Santiago      135.5 -33.516667   \n313                Ñuñoa  Metropolitana de Santiago       16.9 -33.454000   \n314  Pedro Aguirre Cerda  Metropolitana de Santiago         10 -33.466333   \n315            Peñalolén  Metropolitana de Santiago         54 -33.486189   \n316          Providencia  Metropolitana de Santiago       14.3 -33.435000   \n317             Pudahuel  Metropolitana de Santiago        197 -33.433333   \n318            Quilicura  Metropolitana de Santiago         58 -33.361000   \n319        Quinta Normal  Metropolitana de Santiago         13 -33.427000   \n320             Recoleta  Metropolitana de Santiago         16 -33.406000   \n321                Renca  Metropolitana de Santiago         24 -33.398000   \n322          San Joaquín  Metropolitana de Santiago        9.7 -33.491000   \n323           San Miguel  Metropolitana de Santiago       10.0 -33.485833   \n\n      Longitud  \n294 -70.657222  \n295 -70.716667  \n296 -70.735000  \n297 -70.675000  \n298 -70.675000  \n299 -70.699000  \n300 -70.634000  \n301 -70.666000  \n302 -70.663000  \n303 -70.538000  \n304 -70.625000  \n305 -70.634000  \n306 -70.532000  \n307 -70.583333  \n308 -70.516667  \n309 -70.687000  \n310 -70.726000  \n311 -70.604000  \n312 -70.766667  \n313 -70.604000  \n314 -70.633667  \n315 -70.533333  \n316 -70.616000  \n317 -70.716667  \n318 -70.729000  \n319 -70.699000  \n320 -70.640000  \n321 -70.723000  \n322 -70.628000  \n323 -70.649444  ",
      "text/html": "<div>\n<style scoped>\n    .dataframe tbody tr th:only-of-type {\n        vertical-align: middle;\n    }\n\n    .dataframe tbody tr th {\n        vertical-align: top;\n    }\n\n    .dataframe thead th {\n        text-align: right;\n    }\n</style>\n<table border=\"1\" class=\"dataframe\">\n  <thead>\n    <tr style=\"text-align: right;\">\n      <th></th>\n      <th>Comuna</th>\n      <th>Region</th>\n      <th>Superficie</th>\n      <th>Latitud</th>\n      <th>Longitud</th>\n    </tr>\n  </thead>\n  <tbody>\n    <tr>\n      <th>294</th>\n      <td>Santiago</td>\n      <td>Metropolitana de Santiago</td>\n      <td>23.2</td>\n      <td>-33.437222</td>\n      <td>-70.657222</td>\n    </tr>\n    <tr>\n      <th>295</th>\n      <td>Cerrillos</td>\n      <td>Metropolitana de Santiago</td>\n      <td>21</td>\n      <td>-33.500000</td>\n      <td>-70.716667</td>\n    </tr>\n    <tr>\n      <th>296</th>\n      <td>Cerro Navia</td>\n      <td>Metropolitana de Santiago</td>\n      <td>11</td>\n      <td>-33.422000</td>\n      <td>-70.735000</td>\n    </tr>\n    <tr>\n      <th>297</th>\n      <td>Conchalí</td>\n      <td>Metropolitana de Santiago</td>\n      <td>10.7</td>\n      <td>-33.380000</td>\n      <td>-70.675000</td>\n    </tr>\n    <tr>\n      <th>298</th>\n      <td>El Bosque</td>\n      <td>Metropolitana de Santiago</td>\n      <td>14.2</td>\n      <td>-33.567000</td>\n      <td>-70.675000</td>\n    </tr>\n    <tr>\n      <th>299</th>\n      <td>Estación Central</td>\n      <td>Metropolitana de Santiago</td>\n      <td>15</td>\n      <td>-33.459000</td>\n      <td>-70.699000</td>\n    </tr>\n    <tr>\n      <th>300</th>\n      <td>Huechuraba</td>\n      <td>Metropolitana de Santiago</td>\n      <td>44.8</td>\n      <td>-33.368000</td>\n      <td>-70.634000</td>\n    </tr>\n    <tr>\n      <th>301</th>\n      <td>Independencia</td>\n      <td>Metropolitana de Santiago</td>\n      <td>7</td>\n      <td>-33.413000</td>\n      <td>-70.666000</td>\n    </tr>\n    <tr>\n      <th>302</th>\n      <td>La Cisterna</td>\n      <td>Metropolitana de Santiago</td>\n      <td>10</td>\n      <td>-33.529000</td>\n      <td>-70.663000</td>\n    </tr>\n    <tr>\n      <th>303</th>\n      <td>La Florida</td>\n      <td>Metropolitana de Santiago</td>\n      <td>70.2</td>\n      <td>-33.525000</td>\n      <td>-70.538000</td>\n    </tr>\n    <tr>\n      <th>304</th>\n      <td>La Granja</td>\n      <td>Metropolitana de Santiago</td>\n      <td>10</td>\n      <td>-33.533333</td>\n      <td>-70.625000</td>\n    </tr>\n    <tr>\n      <th>305</th>\n      <td>La Pintana</td>\n      <td>Metropolitana de Santiago</td>\n      <td>30.6</td>\n      <td>-33.583000</td>\n      <td>-70.634000</td>\n    </tr>\n    <tr>\n      <th>306</th>\n      <td>La Reina</td>\n      <td>Metropolitana de Santiago</td>\n      <td>23</td>\n      <td>-33.443000</td>\n      <td>-70.532000</td>\n    </tr>\n    <tr>\n      <th>307</th>\n      <td>Las Condes</td>\n      <td>Metropolitana de Santiago</td>\n      <td>99</td>\n      <td>-33.416667</td>\n      <td>-70.583333</td>\n    </tr>\n    <tr>\n      <th>308</th>\n      <td>Lo Barnechea</td>\n      <td>Metropolitana de Santiago</td>\n      <td>1024</td>\n      <td>-33.350000</td>\n      <td>-70.516667</td>\n    </tr>\n    <tr>\n      <th>309</th>\n      <td>Lo Espejo</td>\n      <td>Metropolitana de Santiago</td>\n      <td>7</td>\n      <td>-33.522000</td>\n      <td>-70.687000</td>\n    </tr>\n    <tr>\n      <th>310</th>\n      <td>Lo Prado</td>\n      <td>Metropolitana de Santiago</td>\n      <td>7</td>\n      <td>-33.445000</td>\n      <td>-70.726000</td>\n    </tr>\n    <tr>\n      <th>311</th>\n      <td>Macul</td>\n      <td>Metropolitana de Santiago</td>\n      <td>12.9</td>\n      <td>-33.487000</td>\n      <td>-70.604000</td>\n    </tr>\n    <tr>\n      <th>312</th>\n      <td>Maipú</td>\n      <td>Metropolitana de Santiago</td>\n      <td>135.5</td>\n      <td>-33.516667</td>\n      <td>-70.766667</td>\n    </tr>\n    <tr>\n      <th>313</th>\n      <td>Ñuñoa</td>\n      <td>Metropolitana de Santiago</td>\n      <td>16.9</td>\n      <td>-33.454000</td>\n      <td>-70.604000</td>\n    </tr>\n    <tr>\n      <th>314</th>\n      <td>Pedro Aguirre Cerda</td>\n      <td>Metropolitana de Santiago</td>\n      <td>10</td>\n      <td>-33.466333</td>\n      <td>-70.633667</td>\n    </tr>\n    <tr>\n      <th>315</th>\n      <td>Peñalolén</td>\n      <td>Metropolitana de Santiago</td>\n      <td>54</td>\n      <td>-33.486189</td>\n      <td>-70.533333</td>\n    </tr>\n    <tr>\n      <th>316</th>\n      <td>Providencia</td>\n      <td>Metropolitana de Santiago</td>\n      <td>14.3</td>\n      <td>-33.435000</td>\n      <td>-70.616000</td>\n    </tr>\n    <tr>\n      <th>317</th>\n      <td>Pudahuel</td>\n      <td>Metropolitana de Santiago</td>\n      <td>197</td>\n      <td>-33.433333</td>\n      <td>-70.716667</td>\n    </tr>\n    <tr>\n      <th>318</th>\n      <td>Quilicura</td>\n      <td>Metropolitana de Santiago</td>\n      <td>58</td>\n      <td>-33.361000</td>\n      <td>-70.729000</td>\n    </tr>\n    <tr>\n      <th>319</th>\n      <td>Quinta Normal</td>\n      <td>Metropolitana de Santiago</td>\n      <td>13</td>\n      <td>-33.427000</td>\n      <td>-70.699000</td>\n    </tr>\n    <tr>\n      <th>320</th>\n      <td>Recoleta</td>\n      <td>Metropolitana de Santiago</td>\n      <td>16</td>\n      <td>-33.406000</td>\n      <td>-70.640000</td>\n    </tr>\n    <tr>\n      <th>321</th>\n      <td>Renca</td>\n      <td>Metropolitana de Santiago</td>\n      <td>24</td>\n      <td>-33.398000</td>\n      <td>-70.723000</td>\n    </tr>\n    <tr>\n      <th>322</th>\n      <td>San Joaquín</td>\n      <td>Metropolitana de Santiago</td>\n      <td>9.7</td>\n      <td>-33.491000</td>\n      <td>-70.628000</td>\n    </tr>\n    <tr>\n      <th>323</th>\n      <td>San Miguel</td>\n      <td>Metropolitana de Santiago</td>\n      <td>10.0</td>\n      <td>-33.485833</td>\n      <td>-70.649444</td>\n    </tr>\n  </tbody>\n</table>\n</div>"
     },
     "metadata": {},
     "execution_count": 161
    }
   ],
   "source": [
    "df.head(30)"
   ]
  },
  {
   "cell_type": "code",
   "execution_count": 162,
   "metadata": {},
   "outputs": [],
   "source": [
    "CLIENT_ID = 'UJX0HF0KI0FCRJNZ10MKPGWOYATKIJH0QLG4KQFGMBHN0LA4'\n",
    "CLIENT_SECRET = 'JRZQRGXVK0VZS3B24UEBKKY4ZTJWLGE1RPCWRZJMKEKHDIXK'\n",
    "VERSION = '20180604'"
   ]
  },
  {
   "cell_type": "code",
   "execution_count": 163,
   "metadata": {},
   "outputs": [],
   "source": [
    "def getNearbyVenues(names, latitudes, longitudes):\n",
    "    radius=500\n",
    "    LIMIT=100\n",
    "    venues_list=[]\n",
    "    for name, lat, lng in zip(names, latitudes, longitudes):\n",
    "        print(name)\n",
    "            \n",
    "        # create the API request URL\n",
    "        url = 'https://api.foursquare.com/v2/venues/explore?&client_id={}&client_secret={}&v={}&ll={},{}&radius={}&limit={}'.format(\n",
    "            CLIENT_ID, \n",
    "            CLIENT_SECRET, \n",
    "            VERSION, \n",
    "            lat, \n",
    "            lng, \n",
    "            radius, \n",
    "            LIMIT)\n",
    "            \n",
    "        # make the GET request\n",
    "        results = requests.get(url).json()[\"response\"]['groups'][0]['items']\n",
    "        \n",
    "        # return only relevant information for each nearby venue\n",
    "        venues_list.append([(\n",
    "            name, \n",
    "            lat, \n",
    "            lng, \n",
    "            v['venue']['name'], \n",
    "            v['venue']['location']['lat'], \n",
    "            v['venue']['location']['lng'],  \n",
    "            v['venue']['categories'][0]['name']) for v in results])\n",
    "\n",
    "    nearby_venues = pd.DataFrame([item for venue_list in venues_list for item in venue_list])\n",
    "    nearby_venues.columns = ['Comuna', \n",
    "                  'Comuna Latitude', \n",
    "                  'Comuna Longitude', \n",
    "                  'Venue', \n",
    "                  'Venue Latitude', \n",
    "                  'Venue Longitude', \n",
    "                  'Venue Category']\n",
    "    \n",
    "    return(nearby_venues)"
   ]
  },
  {
   "cell_type": "markdown",
   "metadata": {},
   "source": [
    "## Ocupamos la API enseñada para sacar los lugares cercanos a cada comuna"
   ]
  },
  {
   "cell_type": "code",
   "execution_count": 164,
   "metadata": {
    "tags": []
   },
   "outputs": [
    {
     "output_type": "stream",
     "name": "stdout",
     "text": "Santiago\nCerrillos\nCerro Navia\nConchalí\nEl Bosque\nEstación Central\nHuechuraba\nIndependencia\nLa Cisterna\nLa Florida\nLa Granja\nLa Pintana\nLa Reina\nLas Condes\nLo Barnechea\nLo Espejo\nLo Prado\nMacul\nMaipú\nÑuñoa\nPedro Aguirre Cerda\nPeñalolén\nProvidencia\nPudahuel\nQuilicura\nQuinta Normal\nRecoleta\nRenca\nSan Joaquín\nSan Miguel\nSan Ramón\nVitacura\nPuente Alto\nPirque\nSan José de Maipo\nColina\nLampa\nTil Til\nSan Bernardo\nBuin\nCalera de Tango\nPaine\nMelipilla\nAlhué\nCuracaví\nMaría Pinto\nSan Pedro\nTalagante\nEl Monte\nIsla de Maipo\nPadre Hurtado\nPeñaflor\n"
    }
   ],
   "source": [
    "santiago_venues = getNearbyVenues(names=df['Comuna'],\n",
    "                                   latitudes=df['Latitud'],\n",
    "                                   longitudes=df['Longitud']\n",
    "                                  )"
   ]
  },
  {
   "cell_type": "code",
   "execution_count": 165,
   "metadata": {},
   "outputs": [
    {
     "output_type": "execute_result",
     "data": {
      "text/plain": "            Comuna  Comuna Latitude  Comuna Longitude  \\\n0         Santiago       -33.437222        -70.657222   \n1         Santiago       -33.437222        -70.657222   \n2         Santiago       -33.437222        -70.657222   \n3         Santiago       -33.437222        -70.657222   \n4         Santiago       -33.437222        -70.657222   \n..             ...              ...               ...   \n536      Talagante       -33.667000        -70.931000   \n537       El Monte       -33.684000        -71.017000   \n538       El Monte       -33.684000        -71.017000   \n539  Isla de Maipo       -33.754000        -70.886000   \n540  Padre Hurtado       -33.576000        -70.800000   \n\n                                   Venue  Venue Latitude  Venue Longitude  \\\n0    Plaza de Bolsillo - Santiago Centro      -33.436778       -70.655481   \n1                              Starbucks      -33.437938       -70.657007   \n2                                   YMCA      -33.439060       -70.656257   \n3                            Caffe Mauro      -33.437763       -70.655304   \n4                               Bambudda      -33.438987       -70.655631   \n..                                   ...             ...              ...   \n536              Farmacia Ahumada Centro      -33.663766       -70.928165   \n537                            La Pepita      -33.685815       -71.015808   \n538                     Restaurant David      -33.685612       -71.015385   \n539             Procecion de las mujeres      -33.754366       -70.885653   \n540                  Almacen Los Petetes      -33.576254       -70.805072   \n\n                Venue Category  \n0                        Plaza  \n1                  Coffee Shop  \n2                         Pool  \n3                  Coffee Shop  \n4             Asian Restaurant  \n..                         ...  \n536                   Pharmacy  \n537  Latin American Restaurant  \n538                 Restaurant  \n539              Moving Target  \n540          Food & Drink Shop  \n\n[541 rows x 7 columns]",
      "text/html": "<div>\n<style scoped>\n    .dataframe tbody tr th:only-of-type {\n        vertical-align: middle;\n    }\n\n    .dataframe tbody tr th {\n        vertical-align: top;\n    }\n\n    .dataframe thead th {\n        text-align: right;\n    }\n</style>\n<table border=\"1\" class=\"dataframe\">\n  <thead>\n    <tr style=\"text-align: right;\">\n      <th></th>\n      <th>Comuna</th>\n      <th>Comuna Latitude</th>\n      <th>Comuna Longitude</th>\n      <th>Venue</th>\n      <th>Venue Latitude</th>\n      <th>Venue Longitude</th>\n      <th>Venue Category</th>\n    </tr>\n  </thead>\n  <tbody>\n    <tr>\n      <th>0</th>\n      <td>Santiago</td>\n      <td>-33.437222</td>\n      <td>-70.657222</td>\n      <td>Plaza de Bolsillo - Santiago Centro</td>\n      <td>-33.436778</td>\n      <td>-70.655481</td>\n      <td>Plaza</td>\n    </tr>\n    <tr>\n      <th>1</th>\n      <td>Santiago</td>\n      <td>-33.437222</td>\n      <td>-70.657222</td>\n      <td>Starbucks</td>\n      <td>-33.437938</td>\n      <td>-70.657007</td>\n      <td>Coffee Shop</td>\n    </tr>\n    <tr>\n      <th>2</th>\n      <td>Santiago</td>\n      <td>-33.437222</td>\n      <td>-70.657222</td>\n      <td>YMCA</td>\n      <td>-33.439060</td>\n      <td>-70.656257</td>\n      <td>Pool</td>\n    </tr>\n    <tr>\n      <th>3</th>\n      <td>Santiago</td>\n      <td>-33.437222</td>\n      <td>-70.657222</td>\n      <td>Caffe Mauro</td>\n      <td>-33.437763</td>\n      <td>-70.655304</td>\n      <td>Coffee Shop</td>\n    </tr>\n    <tr>\n      <th>4</th>\n      <td>Santiago</td>\n      <td>-33.437222</td>\n      <td>-70.657222</td>\n      <td>Bambudda</td>\n      <td>-33.438987</td>\n      <td>-70.655631</td>\n      <td>Asian Restaurant</td>\n    </tr>\n    <tr>\n      <th>...</th>\n      <td>...</td>\n      <td>...</td>\n      <td>...</td>\n      <td>...</td>\n      <td>...</td>\n      <td>...</td>\n      <td>...</td>\n    </tr>\n    <tr>\n      <th>536</th>\n      <td>Talagante</td>\n      <td>-33.667000</td>\n      <td>-70.931000</td>\n      <td>Farmacia Ahumada Centro</td>\n      <td>-33.663766</td>\n      <td>-70.928165</td>\n      <td>Pharmacy</td>\n    </tr>\n    <tr>\n      <th>537</th>\n      <td>El Monte</td>\n      <td>-33.684000</td>\n      <td>-71.017000</td>\n      <td>La Pepita</td>\n      <td>-33.685815</td>\n      <td>-71.015808</td>\n      <td>Latin American Restaurant</td>\n    </tr>\n    <tr>\n      <th>538</th>\n      <td>El Monte</td>\n      <td>-33.684000</td>\n      <td>-71.017000</td>\n      <td>Restaurant David</td>\n      <td>-33.685612</td>\n      <td>-71.015385</td>\n      <td>Restaurant</td>\n    </tr>\n    <tr>\n      <th>539</th>\n      <td>Isla de Maipo</td>\n      <td>-33.754000</td>\n      <td>-70.886000</td>\n      <td>Procecion de las mujeres</td>\n      <td>-33.754366</td>\n      <td>-70.885653</td>\n      <td>Moving Target</td>\n    </tr>\n    <tr>\n      <th>540</th>\n      <td>Padre Hurtado</td>\n      <td>-33.576000</td>\n      <td>-70.800000</td>\n      <td>Almacen Los Petetes</td>\n      <td>-33.576254</td>\n      <td>-70.805072</td>\n      <td>Food &amp; Drink Shop</td>\n    </tr>\n  </tbody>\n</table>\n<p>541 rows × 7 columns</p>\n</div>"
     },
     "metadata": {},
     "execution_count": 165
    }
   ],
   "source": [
    "santiago_venues.head(600)"
   ]
  },
  {
   "cell_type": "code",
   "execution_count": 166,
   "metadata": {},
   "outputs": [
    {
     "output_type": "execute_result",
     "data": {
      "text/plain": "                     Comuna Latitude  Comuna Longitude  Venue  Venue Latitude  \\\nComuna                                                                          \nAlhué                              6                 6      6               6   \nBuin                              10                10     10              10   \nCalera de Tango                    4                 4      4               4   \nCerrillos                          4                 4      4               4   \nCerro Navia                        4                 4      4               4   \nColina                             4                 4      4               4   \nConchalí                           4                 4      4               4   \nEl Bosque                          2                 2      2               2   \nEl Monte                           2                 2      2               2   \nEstación Central                   7                 7      7               7   \nHuechuraba                         2                 2      2               2   \nIndependencia                      6                 6      6               6   \nIsla de Maipo                      1                 1      1               1   \nLa Cisterna                       10                10     10              10   \nLa Granja                          2                 2      2               2   \nLa Pintana                         7                 7      7               7   \nLa Reina                          14                14     14              14   \nLampa                              5                 5      5               5   \nLas Condes                        38                38     38              38   \nLo Barnechea                      25                25     25              25   \nLo Espejo                          2                 2      2               2   \nLo Prado                          18                18     18              18   \nMacul                              7                 7      7               7   \nMaipú                              4                 4      4               4   \nMaría Pinto                        4                 4      4               4   \nMelipilla                          1                 1      1               1   \nPadre Hurtado                      1                 1      1               1   \nPedro Aguirre Cerda               15                15     15              15   \nPeñalolén                         14                14     14              14   \nPirque                             1                 1      1               1   \nProvidencia                       23                23     23              23   \nPudahuel                           8                 8      8               8   \nPuente Alto                        5                 5      5               5   \nQuilicura                         15                15     15              15   \nQuinta Normal                      6                 6      6               6   \nRecoleta                           9                 9      9               9   \nRenca                              3                 3      3               3   \nSan Bernardo                       4                 4      4               4   \nSan Joaquín                        1                 1      1               1   \nSan José de Maipo                  9                 9      9               9   \nSan Miguel                        21                21     21              21   \nSan Ramón                          2                 2      2               2   \nSantiago                          99                99     99              99   \nTalagante                         16                16     16              16   \nTil Til                            3                 3      3               3   \nVitacura                          62                62     62              62   \nÑuñoa                             31                31     31              31   \n\n                     Venue Longitude  Venue Category  \nComuna                                                \nAlhué                              6               6  \nBuin                              10              10  \nCalera de Tango                    4               4  \nCerrillos                          4               4  \nCerro Navia                        4               4  \nColina                             4               4  \nConchalí                           4               4  \nEl Bosque                          2               2  \nEl Monte                           2               2  \nEstación Central                   7               7  \nHuechuraba                         2               2  \nIndependencia                      6               6  \nIsla de Maipo                      1               1  \nLa Cisterna                       10              10  \nLa Granja                          2               2  \nLa Pintana                         7               7  \nLa Reina                          14              14  \nLampa                              5               5  \nLas Condes                        38              38  \nLo Barnechea                      25              25  \nLo Espejo                          2               2  \nLo Prado                          18              18  \nMacul                              7               7  \nMaipú                              4               4  \nMaría Pinto                        4               4  \nMelipilla                          1               1  \nPadre Hurtado                      1               1  \nPedro Aguirre Cerda               15              15  \nPeñalolén                         14              14  \nPirque                             1               1  \nProvidencia                       23              23  \nPudahuel                           8               8  \nPuente Alto                        5               5  \nQuilicura                         15              15  \nQuinta Normal                      6               6  \nRecoleta                           9               9  \nRenca                              3               3  \nSan Bernardo                       4               4  \nSan Joaquín                        1               1  \nSan José de Maipo                  9               9  \nSan Miguel                        21              21  \nSan Ramón                          2               2  \nSantiago                          99              99  \nTalagante                         16              16  \nTil Til                            3               3  \nVitacura                          62              62  \nÑuñoa                             31              31  ",
      "text/html": "<div>\n<style scoped>\n    .dataframe tbody tr th:only-of-type {\n        vertical-align: middle;\n    }\n\n    .dataframe tbody tr th {\n        vertical-align: top;\n    }\n\n    .dataframe thead th {\n        text-align: right;\n    }\n</style>\n<table border=\"1\" class=\"dataframe\">\n  <thead>\n    <tr style=\"text-align: right;\">\n      <th></th>\n      <th>Comuna Latitude</th>\n      <th>Comuna Longitude</th>\n      <th>Venue</th>\n      <th>Venue Latitude</th>\n      <th>Venue Longitude</th>\n      <th>Venue Category</th>\n    </tr>\n    <tr>\n      <th>Comuna</th>\n      <th></th>\n      <th></th>\n      <th></th>\n      <th></th>\n      <th></th>\n      <th></th>\n    </tr>\n  </thead>\n  <tbody>\n    <tr>\n      <th>Alhué</th>\n      <td>6</td>\n      <td>6</td>\n      <td>6</td>\n      <td>6</td>\n      <td>6</td>\n      <td>6</td>\n    </tr>\n    <tr>\n      <th>Buin</th>\n      <td>10</td>\n      <td>10</td>\n      <td>10</td>\n      <td>10</td>\n      <td>10</td>\n      <td>10</td>\n    </tr>\n    <tr>\n      <th>Calera de Tango</th>\n      <td>4</td>\n      <td>4</td>\n      <td>4</td>\n      <td>4</td>\n      <td>4</td>\n      <td>4</td>\n    </tr>\n    <tr>\n      <th>Cerrillos</th>\n      <td>4</td>\n      <td>4</td>\n      <td>4</td>\n      <td>4</td>\n      <td>4</td>\n      <td>4</td>\n    </tr>\n    <tr>\n      <th>Cerro Navia</th>\n      <td>4</td>\n      <td>4</td>\n      <td>4</td>\n      <td>4</td>\n      <td>4</td>\n      <td>4</td>\n    </tr>\n    <tr>\n      <th>Colina</th>\n      <td>4</td>\n      <td>4</td>\n      <td>4</td>\n      <td>4</td>\n      <td>4</td>\n      <td>4</td>\n    </tr>\n    <tr>\n      <th>Conchalí</th>\n      <td>4</td>\n      <td>4</td>\n      <td>4</td>\n      <td>4</td>\n      <td>4</td>\n      <td>4</td>\n    </tr>\n    <tr>\n      <th>El Bosque</th>\n      <td>2</td>\n      <td>2</td>\n      <td>2</td>\n      <td>2</td>\n      <td>2</td>\n      <td>2</td>\n    </tr>\n    <tr>\n      <th>El Monte</th>\n      <td>2</td>\n      <td>2</td>\n      <td>2</td>\n      <td>2</td>\n      <td>2</td>\n      <td>2</td>\n    </tr>\n    <tr>\n      <th>Estación Central</th>\n      <td>7</td>\n      <td>7</td>\n      <td>7</td>\n      <td>7</td>\n      <td>7</td>\n      <td>7</td>\n    </tr>\n    <tr>\n      <th>Huechuraba</th>\n      <td>2</td>\n      <td>2</td>\n      <td>2</td>\n      <td>2</td>\n      <td>2</td>\n      <td>2</td>\n    </tr>\n    <tr>\n      <th>Independencia</th>\n      <td>6</td>\n      <td>6</td>\n      <td>6</td>\n      <td>6</td>\n      <td>6</td>\n      <td>6</td>\n    </tr>\n    <tr>\n      <th>Isla de Maipo</th>\n      <td>1</td>\n      <td>1</td>\n      <td>1</td>\n      <td>1</td>\n      <td>1</td>\n      <td>1</td>\n    </tr>\n    <tr>\n      <th>La Cisterna</th>\n      <td>10</td>\n      <td>10</td>\n      <td>10</td>\n      <td>10</td>\n      <td>10</td>\n      <td>10</td>\n    </tr>\n    <tr>\n      <th>La Granja</th>\n      <td>2</td>\n      <td>2</td>\n      <td>2</td>\n      <td>2</td>\n      <td>2</td>\n      <td>2</td>\n    </tr>\n    <tr>\n      <th>La Pintana</th>\n      <td>7</td>\n      <td>7</td>\n      <td>7</td>\n      <td>7</td>\n      <td>7</td>\n      <td>7</td>\n    </tr>\n    <tr>\n      <th>La Reina</th>\n      <td>14</td>\n      <td>14</td>\n      <td>14</td>\n      <td>14</td>\n      <td>14</td>\n      <td>14</td>\n    </tr>\n    <tr>\n      <th>Lampa</th>\n      <td>5</td>\n      <td>5</td>\n      <td>5</td>\n      <td>5</td>\n      <td>5</td>\n      <td>5</td>\n    </tr>\n    <tr>\n      <th>Las Condes</th>\n      <td>38</td>\n      <td>38</td>\n      <td>38</td>\n      <td>38</td>\n      <td>38</td>\n      <td>38</td>\n    </tr>\n    <tr>\n      <th>Lo Barnechea</th>\n      <td>25</td>\n      <td>25</td>\n      <td>25</td>\n      <td>25</td>\n      <td>25</td>\n      <td>25</td>\n    </tr>\n    <tr>\n      <th>Lo Espejo</th>\n      <td>2</td>\n      <td>2</td>\n      <td>2</td>\n      <td>2</td>\n      <td>2</td>\n      <td>2</td>\n    </tr>\n    <tr>\n      <th>Lo Prado</th>\n      <td>18</td>\n      <td>18</td>\n      <td>18</td>\n      <td>18</td>\n      <td>18</td>\n      <td>18</td>\n    </tr>\n    <tr>\n      <th>Macul</th>\n      <td>7</td>\n      <td>7</td>\n      <td>7</td>\n      <td>7</td>\n      <td>7</td>\n      <td>7</td>\n    </tr>\n    <tr>\n      <th>Maipú</th>\n      <td>4</td>\n      <td>4</td>\n      <td>4</td>\n      <td>4</td>\n      <td>4</td>\n      <td>4</td>\n    </tr>\n    <tr>\n      <th>María Pinto</th>\n      <td>4</td>\n      <td>4</td>\n      <td>4</td>\n      <td>4</td>\n      <td>4</td>\n      <td>4</td>\n    </tr>\n    <tr>\n      <th>Melipilla</th>\n      <td>1</td>\n      <td>1</td>\n      <td>1</td>\n      <td>1</td>\n      <td>1</td>\n      <td>1</td>\n    </tr>\n    <tr>\n      <th>Padre Hurtado</th>\n      <td>1</td>\n      <td>1</td>\n      <td>1</td>\n      <td>1</td>\n      <td>1</td>\n      <td>1</td>\n    </tr>\n    <tr>\n      <th>Pedro Aguirre Cerda</th>\n      <td>15</td>\n      <td>15</td>\n      <td>15</td>\n      <td>15</td>\n      <td>15</td>\n      <td>15</td>\n    </tr>\n    <tr>\n      <th>Peñalolén</th>\n      <td>14</td>\n      <td>14</td>\n      <td>14</td>\n      <td>14</td>\n      <td>14</td>\n      <td>14</td>\n    </tr>\n    <tr>\n      <th>Pirque</th>\n      <td>1</td>\n      <td>1</td>\n      <td>1</td>\n      <td>1</td>\n      <td>1</td>\n      <td>1</td>\n    </tr>\n    <tr>\n      <th>Providencia</th>\n      <td>23</td>\n      <td>23</td>\n      <td>23</td>\n      <td>23</td>\n      <td>23</td>\n      <td>23</td>\n    </tr>\n    <tr>\n      <th>Pudahuel</th>\n      <td>8</td>\n      <td>8</td>\n      <td>8</td>\n      <td>8</td>\n      <td>8</td>\n      <td>8</td>\n    </tr>\n    <tr>\n      <th>Puente Alto</th>\n      <td>5</td>\n      <td>5</td>\n      <td>5</td>\n      <td>5</td>\n      <td>5</td>\n      <td>5</td>\n    </tr>\n    <tr>\n      <th>Quilicura</th>\n      <td>15</td>\n      <td>15</td>\n      <td>15</td>\n      <td>15</td>\n      <td>15</td>\n      <td>15</td>\n    </tr>\n    <tr>\n      <th>Quinta Normal</th>\n      <td>6</td>\n      <td>6</td>\n      <td>6</td>\n      <td>6</td>\n      <td>6</td>\n      <td>6</td>\n    </tr>\n    <tr>\n      <th>Recoleta</th>\n      <td>9</td>\n      <td>9</td>\n      <td>9</td>\n      <td>9</td>\n      <td>9</td>\n      <td>9</td>\n    </tr>\n    <tr>\n      <th>Renca</th>\n      <td>3</td>\n      <td>3</td>\n      <td>3</td>\n      <td>3</td>\n      <td>3</td>\n      <td>3</td>\n    </tr>\n    <tr>\n      <th>San Bernardo</th>\n      <td>4</td>\n      <td>4</td>\n      <td>4</td>\n      <td>4</td>\n      <td>4</td>\n      <td>4</td>\n    </tr>\n    <tr>\n      <th>San Joaquín</th>\n      <td>1</td>\n      <td>1</td>\n      <td>1</td>\n      <td>1</td>\n      <td>1</td>\n      <td>1</td>\n    </tr>\n    <tr>\n      <th>San José de Maipo</th>\n      <td>9</td>\n      <td>9</td>\n      <td>9</td>\n      <td>9</td>\n      <td>9</td>\n      <td>9</td>\n    </tr>\n    <tr>\n      <th>San Miguel</th>\n      <td>21</td>\n      <td>21</td>\n      <td>21</td>\n      <td>21</td>\n      <td>21</td>\n      <td>21</td>\n    </tr>\n    <tr>\n      <th>San Ramón</th>\n      <td>2</td>\n      <td>2</td>\n      <td>2</td>\n      <td>2</td>\n      <td>2</td>\n      <td>2</td>\n    </tr>\n    <tr>\n      <th>Santiago</th>\n      <td>99</td>\n      <td>99</td>\n      <td>99</td>\n      <td>99</td>\n      <td>99</td>\n      <td>99</td>\n    </tr>\n    <tr>\n      <th>Talagante</th>\n      <td>16</td>\n      <td>16</td>\n      <td>16</td>\n      <td>16</td>\n      <td>16</td>\n      <td>16</td>\n    </tr>\n    <tr>\n      <th>Til Til</th>\n      <td>3</td>\n      <td>3</td>\n      <td>3</td>\n      <td>3</td>\n      <td>3</td>\n      <td>3</td>\n    </tr>\n    <tr>\n      <th>Vitacura</th>\n      <td>62</td>\n      <td>62</td>\n      <td>62</td>\n      <td>62</td>\n      <td>62</td>\n      <td>62</td>\n    </tr>\n    <tr>\n      <th>Ñuñoa</th>\n      <td>31</td>\n      <td>31</td>\n      <td>31</td>\n      <td>31</td>\n      <td>31</td>\n      <td>31</td>\n    </tr>\n  </tbody>\n</table>\n</div>"
     },
     "metadata": {},
     "execution_count": 166
    }
   ],
   "source": [
    "santiago_venues.groupby('Comuna').count()"
   ]
  },
  {
   "cell_type": "markdown",
   "metadata": {},
   "source": [
    "## Arreglamos los datos categóricos"
   ]
  },
  {
   "cell_type": "code",
   "execution_count": 167,
   "metadata": {},
   "outputs": [
    {
     "output_type": "error",
     "ename": "KeyError",
     "evalue": "\"['Comuna'] not found in axis\"",
     "traceback": [
      "\u001b[1;31m---------------------------------------------------------------------------\u001b[0m",
      "\u001b[1;31mKeyError\u001b[0m                                  Traceback (most recent call last)",
      "\u001b[1;32m<ipython-input-167-aa282cbeca12>\u001b[0m in \u001b[0;36m<module>\u001b[1;34m\u001b[0m\n\u001b[0;32m      1\u001b[0m \u001b[0msantiago_onehot\u001b[0m \u001b[1;33m=\u001b[0m \u001b[0mpd\u001b[0m\u001b[1;33m.\u001b[0m\u001b[0mget_dummies\u001b[0m\u001b[1;33m(\u001b[0m\u001b[0msantiago_venues\u001b[0m\u001b[1;33m[\u001b[0m\u001b[1;33m[\u001b[0m\u001b[1;34m'Venue Category'\u001b[0m\u001b[1;33m]\u001b[0m\u001b[1;33m]\u001b[0m\u001b[1;33m,\u001b[0m \u001b[0mprefix\u001b[0m\u001b[1;33m=\u001b[0m\u001b[1;34m\"\"\u001b[0m\u001b[1;33m,\u001b[0m \u001b[0mprefix_sep\u001b[0m\u001b[1;33m=\u001b[0m\u001b[1;34m\"\"\u001b[0m\u001b[1;33m)\u001b[0m\u001b[1;33m\u001b[0m\u001b[0m\n\u001b[1;32m----> 2\u001b[1;33m \u001b[0msantiago_onehot\u001b[0m\u001b[1;33m.\u001b[0m\u001b[0mdrop\u001b[0m\u001b[1;33m(\u001b[0m\u001b[1;33m[\u001b[0m\u001b[1;34m'Comuna'\u001b[0m\u001b[1;33m]\u001b[0m\u001b[1;33m,\u001b[0m\u001b[0maxis\u001b[0m\u001b[1;33m=\u001b[0m\u001b[1;36m1\u001b[0m\u001b[1;33m,\u001b[0m\u001b[0minplace\u001b[0m\u001b[1;33m=\u001b[0m\u001b[1;32mTrue\u001b[0m\u001b[1;33m)\u001b[0m\u001b[1;33m\u001b[0m\u001b[0m\n\u001b[0m\u001b[0;32m      3\u001b[0m \u001b[0msantiago_onehot\u001b[0m\u001b[1;33m.\u001b[0m\u001b[0minsert\u001b[0m\u001b[1;33m(\u001b[0m\u001b[0mloc\u001b[0m\u001b[1;33m=\u001b[0m\u001b[1;36m0\u001b[0m\u001b[1;33m,\u001b[0m \u001b[0mcolumn\u001b[0m\u001b[1;33m=\u001b[0m\u001b[1;34m'Comuna'\u001b[0m\u001b[1;33m,\u001b[0m \u001b[0mvalue\u001b[0m\u001b[1;33m=\u001b[0m\u001b[0msantiago_venues\u001b[0m\u001b[1;33m[\u001b[0m\u001b[1;34m'Comuna'\u001b[0m\u001b[1;33m]\u001b[0m \u001b[1;33m)\u001b[0m\u001b[1;33m\u001b[0m\u001b[0m\n\u001b[0;32m      4\u001b[0m \u001b[0msantiago_onehot\u001b[0m\u001b[1;33m.\u001b[0m\u001b[0mshape\u001b[0m\u001b[1;33m\u001b[0m\u001b[0m\n",
      "\u001b[1;32m~\\AppData\\Roaming\\Python\\Python37\\site-packages\\pandas\\core\\frame.py\u001b[0m in \u001b[0;36mdrop\u001b[1;34m(self, labels, axis, index, columns, level, inplace, errors)\u001b[0m\n\u001b[0;32m   3995\u001b[0m             \u001b[0mlevel\u001b[0m\u001b[1;33m=\u001b[0m\u001b[0mlevel\u001b[0m\u001b[1;33m,\u001b[0m\u001b[1;33m\u001b[0m\u001b[0m\n\u001b[0;32m   3996\u001b[0m             \u001b[0minplace\u001b[0m\u001b[1;33m=\u001b[0m\u001b[0minplace\u001b[0m\u001b[1;33m,\u001b[0m\u001b[1;33m\u001b[0m\u001b[0m\n\u001b[1;32m-> 3997\u001b[1;33m             \u001b[0merrors\u001b[0m\u001b[1;33m=\u001b[0m\u001b[0merrors\u001b[0m\u001b[1;33m,\u001b[0m\u001b[1;33m\u001b[0m\u001b[0m\n\u001b[0m\u001b[0;32m   3998\u001b[0m         )\n\u001b[0;32m   3999\u001b[0m \u001b[1;33m\u001b[0m\u001b[0m\n",
      "\u001b[1;32m~\\AppData\\Roaming\\Python\\Python37\\site-packages\\pandas\\core\\generic.py\u001b[0m in \u001b[0;36mdrop\u001b[1;34m(self, labels, axis, index, columns, level, inplace, errors)\u001b[0m\n\u001b[0;32m   3934\u001b[0m         \u001b[1;32mfor\u001b[0m \u001b[0maxis\u001b[0m\u001b[1;33m,\u001b[0m \u001b[0mlabels\u001b[0m \u001b[1;32min\u001b[0m \u001b[0maxes\u001b[0m\u001b[1;33m.\u001b[0m\u001b[0mitems\u001b[0m\u001b[1;33m(\u001b[0m\u001b[1;33m)\u001b[0m\u001b[1;33m:\u001b[0m\u001b[1;33m\u001b[0m\u001b[0m\n\u001b[0;32m   3935\u001b[0m             \u001b[1;32mif\u001b[0m \u001b[0mlabels\u001b[0m \u001b[1;32mis\u001b[0m \u001b[1;32mnot\u001b[0m \u001b[1;32mNone\u001b[0m\u001b[1;33m:\u001b[0m\u001b[1;33m\u001b[0m\u001b[0m\n\u001b[1;32m-> 3936\u001b[1;33m                 \u001b[0mobj\u001b[0m \u001b[1;33m=\u001b[0m \u001b[0mobj\u001b[0m\u001b[1;33m.\u001b[0m\u001b[0m_drop_axis\u001b[0m\u001b[1;33m(\u001b[0m\u001b[0mlabels\u001b[0m\u001b[1;33m,\u001b[0m \u001b[0maxis\u001b[0m\u001b[1;33m,\u001b[0m \u001b[0mlevel\u001b[0m\u001b[1;33m=\u001b[0m\u001b[0mlevel\u001b[0m\u001b[1;33m,\u001b[0m \u001b[0merrors\u001b[0m\u001b[1;33m=\u001b[0m\u001b[0merrors\u001b[0m\u001b[1;33m)\u001b[0m\u001b[1;33m\u001b[0m\u001b[0m\n\u001b[0m\u001b[0;32m   3937\u001b[0m \u001b[1;33m\u001b[0m\u001b[0m\n\u001b[0;32m   3938\u001b[0m         \u001b[1;32mif\u001b[0m \u001b[0minplace\u001b[0m\u001b[1;33m:\u001b[0m\u001b[1;33m\u001b[0m\u001b[0m\n",
      "\u001b[1;32m~\\AppData\\Roaming\\Python\\Python37\\site-packages\\pandas\\core\\generic.py\u001b[0m in \u001b[0;36m_drop_axis\u001b[1;34m(self, labels, axis, level, errors)\u001b[0m\n\u001b[0;32m   3968\u001b[0m                 \u001b[0mnew_axis\u001b[0m \u001b[1;33m=\u001b[0m \u001b[0maxis\u001b[0m\u001b[1;33m.\u001b[0m\u001b[0mdrop\u001b[0m\u001b[1;33m(\u001b[0m\u001b[0mlabels\u001b[0m\u001b[1;33m,\u001b[0m \u001b[0mlevel\u001b[0m\u001b[1;33m=\u001b[0m\u001b[0mlevel\u001b[0m\u001b[1;33m,\u001b[0m \u001b[0merrors\u001b[0m\u001b[1;33m=\u001b[0m\u001b[0merrors\u001b[0m\u001b[1;33m)\u001b[0m\u001b[1;33m\u001b[0m\u001b[0m\n\u001b[0;32m   3969\u001b[0m             \u001b[1;32melse\u001b[0m\u001b[1;33m:\u001b[0m\u001b[1;33m\u001b[0m\u001b[0m\n\u001b[1;32m-> 3970\u001b[1;33m                 \u001b[0mnew_axis\u001b[0m \u001b[1;33m=\u001b[0m \u001b[0maxis\u001b[0m\u001b[1;33m.\u001b[0m\u001b[0mdrop\u001b[0m\u001b[1;33m(\u001b[0m\u001b[0mlabels\u001b[0m\u001b[1;33m,\u001b[0m \u001b[0merrors\u001b[0m\u001b[1;33m=\u001b[0m\u001b[0merrors\u001b[0m\u001b[1;33m)\u001b[0m\u001b[1;33m\u001b[0m\u001b[0m\n\u001b[0m\u001b[0;32m   3971\u001b[0m             \u001b[0mresult\u001b[0m \u001b[1;33m=\u001b[0m \u001b[0mself\u001b[0m\u001b[1;33m.\u001b[0m\u001b[0mreindex\u001b[0m\u001b[1;33m(\u001b[0m\u001b[1;33m**\u001b[0m\u001b[1;33m{\u001b[0m\u001b[0maxis_name\u001b[0m\u001b[1;33m:\u001b[0m \u001b[0mnew_axis\u001b[0m\u001b[1;33m}\u001b[0m\u001b[1;33m)\u001b[0m\u001b[1;33m\u001b[0m\u001b[0m\n\u001b[0;32m   3972\u001b[0m \u001b[1;33m\u001b[0m\u001b[0m\n",
      "\u001b[1;32m~\\AppData\\Roaming\\Python\\Python37\\site-packages\\pandas\\core\\indexes\\base.py\u001b[0m in \u001b[0;36mdrop\u001b[1;34m(self, labels, errors)\u001b[0m\n\u001b[0;32m   5015\u001b[0m         \u001b[1;32mif\u001b[0m \u001b[0mmask\u001b[0m\u001b[1;33m.\u001b[0m\u001b[0many\u001b[0m\u001b[1;33m(\u001b[0m\u001b[1;33m)\u001b[0m\u001b[1;33m:\u001b[0m\u001b[1;33m\u001b[0m\u001b[0m\n\u001b[0;32m   5016\u001b[0m             \u001b[1;32mif\u001b[0m \u001b[0merrors\u001b[0m \u001b[1;33m!=\u001b[0m \u001b[1;34m\"ignore\"\u001b[0m\u001b[1;33m:\u001b[0m\u001b[1;33m\u001b[0m\u001b[0m\n\u001b[1;32m-> 5017\u001b[1;33m                 \u001b[1;32mraise\u001b[0m \u001b[0mKeyError\u001b[0m\u001b[1;33m(\u001b[0m\u001b[1;34mf\"{labels[mask]} not found in axis\"\u001b[0m\u001b[1;33m)\u001b[0m\u001b[1;33m\u001b[0m\u001b[0m\n\u001b[0m\u001b[0;32m   5018\u001b[0m             \u001b[0mindexer\u001b[0m \u001b[1;33m=\u001b[0m \u001b[0mindexer\u001b[0m\u001b[1;33m[\u001b[0m\u001b[1;33m~\u001b[0m\u001b[0mmask\u001b[0m\u001b[1;33m]\u001b[0m\u001b[1;33m\u001b[0m\u001b[0m\n\u001b[0;32m   5019\u001b[0m         \u001b[1;32mreturn\u001b[0m \u001b[0mself\u001b[0m\u001b[1;33m.\u001b[0m\u001b[0mdelete\u001b[0m\u001b[1;33m(\u001b[0m\u001b[0mindexer\u001b[0m\u001b[1;33m)\u001b[0m\u001b[1;33m\u001b[0m\u001b[0m\n",
      "\u001b[1;31mKeyError\u001b[0m: \"['Comuna'] not found in axis\""
     ]
    }
   ],
   "source": [
    "santiago_onehot = pd.get_dummies(santiago_venues[['Venue Category']], prefix=\"\", prefix_sep=\"\")\n",
    "santiago_onehot.drop(['Comuna'],axis=1,inplace=True) \n",
    "santiago_onehot.insert(loc=0, column='Comuna', value=santiago_venues['Comuna'] )\n",
    "santiago_onehot.shape"
   ]
  },
  {
   "cell_type": "code",
   "execution_count": 168,
   "metadata": {},
   "outputs": [
    {
     "output_type": "error",
     "ename": "KeyError",
     "evalue": "'Comuna'",
     "traceback": [
      "\u001b[1;31m---------------------------------------------------------------------------\u001b[0m",
      "\u001b[1;31mKeyError\u001b[0m                                  Traceback (most recent call last)",
      "\u001b[1;32m<ipython-input-168-958a00e600a2>\u001b[0m in \u001b[0;36m<module>\u001b[1;34m\u001b[0m\n\u001b[1;32m----> 1\u001b[1;33m \u001b[0msantiago_grouped\u001b[0m \u001b[1;33m=\u001b[0m \u001b[0msantiago_onehot\u001b[0m\u001b[1;33m.\u001b[0m\u001b[0mgroupby\u001b[0m\u001b[1;33m(\u001b[0m\u001b[1;34m'Comuna'\u001b[0m\u001b[1;33m)\u001b[0m\u001b[1;33m.\u001b[0m\u001b[0mmean\u001b[0m\u001b[1;33m(\u001b[0m\u001b[1;33m)\u001b[0m\u001b[1;33m.\u001b[0m\u001b[0mreset_index\u001b[0m\u001b[1;33m(\u001b[0m\u001b[1;33m)\u001b[0m\u001b[1;33m\u001b[0m\u001b[0m\n\u001b[0m\u001b[0;32m      2\u001b[0m \u001b[0msantiago_grouped\u001b[0m\u001b[1;33m.\u001b[0m\u001b[0mhead\u001b[0m\u001b[1;33m(\u001b[0m\u001b[1;33m)\u001b[0m\u001b[1;33m\u001b[0m\u001b[0m\n",
      "\u001b[1;32m~\\AppData\\Roaming\\Python\\Python37\\site-packages\\pandas\\core\\frame.py\u001b[0m in \u001b[0;36mgroupby\u001b[1;34m(self, by, axis, level, as_index, sort, group_keys, squeeze, observed)\u001b[0m\n\u001b[0;32m   5808\u001b[0m             \u001b[0mgroup_keys\u001b[0m\u001b[1;33m=\u001b[0m\u001b[0mgroup_keys\u001b[0m\u001b[1;33m,\u001b[0m\u001b[1;33m\u001b[0m\u001b[0m\n\u001b[0;32m   5809\u001b[0m             \u001b[0msqueeze\u001b[0m\u001b[1;33m=\u001b[0m\u001b[0msqueeze\u001b[0m\u001b[1;33m,\u001b[0m\u001b[1;33m\u001b[0m\u001b[0m\n\u001b[1;32m-> 5810\u001b[1;33m             \u001b[0mobserved\u001b[0m\u001b[1;33m=\u001b[0m\u001b[0mobserved\u001b[0m\u001b[1;33m,\u001b[0m\u001b[1;33m\u001b[0m\u001b[0m\n\u001b[0m\u001b[0;32m   5811\u001b[0m         )\n\u001b[0;32m   5812\u001b[0m \u001b[1;33m\u001b[0m\u001b[0m\n",
      "\u001b[1;32m~\\AppData\\Roaming\\Python\\Python37\\site-packages\\pandas\\core\\groupby\\groupby.py\u001b[0m in \u001b[0;36m__init__\u001b[1;34m(self, obj, keys, axis, level, grouper, exclusions, selection, as_index, sort, group_keys, squeeze, observed, mutated)\u001b[0m\n\u001b[0;32m    407\u001b[0m                 \u001b[0msort\u001b[0m\u001b[1;33m=\u001b[0m\u001b[0msort\u001b[0m\u001b[1;33m,\u001b[0m\u001b[1;33m\u001b[0m\u001b[0m\n\u001b[0;32m    408\u001b[0m                 \u001b[0mobserved\u001b[0m\u001b[1;33m=\u001b[0m\u001b[0mobserved\u001b[0m\u001b[1;33m,\u001b[0m\u001b[1;33m\u001b[0m\u001b[0m\n\u001b[1;32m--> 409\u001b[1;33m                 \u001b[0mmutated\u001b[0m\u001b[1;33m=\u001b[0m\u001b[0mself\u001b[0m\u001b[1;33m.\u001b[0m\u001b[0mmutated\u001b[0m\u001b[1;33m,\u001b[0m\u001b[1;33m\u001b[0m\u001b[0m\n\u001b[0m\u001b[0;32m    410\u001b[0m             )\n\u001b[0;32m    411\u001b[0m \u001b[1;33m\u001b[0m\u001b[0m\n",
      "\u001b[1;32m~\\AppData\\Roaming\\Python\\Python37\\site-packages\\pandas\\core\\groupby\\grouper.py\u001b[0m in \u001b[0;36mget_grouper\u001b[1;34m(obj, key, axis, level, sort, observed, mutated, validate)\u001b[0m\n\u001b[0;32m    596\u001b[0m                 \u001b[0min_axis\u001b[0m\u001b[1;33m,\u001b[0m \u001b[0mname\u001b[0m\u001b[1;33m,\u001b[0m \u001b[0mlevel\u001b[0m\u001b[1;33m,\u001b[0m \u001b[0mgpr\u001b[0m \u001b[1;33m=\u001b[0m \u001b[1;32mFalse\u001b[0m\u001b[1;33m,\u001b[0m \u001b[1;32mNone\u001b[0m\u001b[1;33m,\u001b[0m \u001b[0mgpr\u001b[0m\u001b[1;33m,\u001b[0m \u001b[1;32mNone\u001b[0m\u001b[1;33m\u001b[0m\u001b[0m\n\u001b[0;32m    597\u001b[0m             \u001b[1;32melse\u001b[0m\u001b[1;33m:\u001b[0m\u001b[1;33m\u001b[0m\u001b[0m\n\u001b[1;32m--> 598\u001b[1;33m                 \u001b[1;32mraise\u001b[0m \u001b[0mKeyError\u001b[0m\u001b[1;33m(\u001b[0m\u001b[0mgpr\u001b[0m\u001b[1;33m)\u001b[0m\u001b[1;33m\u001b[0m\u001b[0m\n\u001b[0m\u001b[0;32m    599\u001b[0m         \u001b[1;32melif\u001b[0m \u001b[0misinstance\u001b[0m\u001b[1;33m(\u001b[0m\u001b[0mgpr\u001b[0m\u001b[1;33m,\u001b[0m \u001b[0mGrouper\u001b[0m\u001b[1;33m)\u001b[0m \u001b[1;32mand\u001b[0m \u001b[0mgpr\u001b[0m\u001b[1;33m.\u001b[0m\u001b[0mkey\u001b[0m \u001b[1;32mis\u001b[0m \u001b[1;32mnot\u001b[0m \u001b[1;32mNone\u001b[0m\u001b[1;33m:\u001b[0m\u001b[1;33m\u001b[0m\u001b[0m\n\u001b[0;32m    600\u001b[0m             \u001b[1;31m# Add key to exclusions\u001b[0m\u001b[1;33m\u001b[0m\u001b[1;33m\u001b[0m\u001b[0m\n",
      "\u001b[1;31mKeyError\u001b[0m: 'Comuna'"
     ]
    }
   ],
   "source": [
    "santiago_grouped = santiago_onehot.groupby('Comuna').mean().reset_index()\n",
    "santiago_grouped.head()"
   ]
  },
  {
   "cell_type": "code",
   "execution_count": 169,
   "metadata": {},
   "outputs": [],
   "source": [
    "def return_most_common_venues(row, num_top_venues):\n",
    "    row_categories = row.iloc[1:]\n",
    "    row_categories_sorted = row_categories.sort_values(ascending=False)\n",
    "    \n",
    "    return row_categories_sorted.index.values[0:num_top_venues]"
   ]
  },
  {
   "cell_type": "markdown",
   "metadata": {},
   "source": [
    "## Calculamos los lugares más concurridos"
   ]
  },
  {
   "cell_type": "code",
   "execution_count": 170,
   "metadata": {},
   "outputs": [
    {
     "output_type": "error",
     "ename": "NameError",
     "evalue": "name 'toronto_grouped' is not defined",
     "traceback": [
      "\u001b[1;31m---------------------------------------------------------------------------\u001b[0m",
      "\u001b[1;31mNameError\u001b[0m                                 Traceback (most recent call last)",
      "\u001b[1;32m<ipython-input-170-2bd83bd7097a>\u001b[0m in \u001b[0;36m<module>\u001b[1;34m\u001b[0m\n\u001b[0;32m     11\u001b[0m \u001b[1;33m\u001b[0m\u001b[0m\n\u001b[0;32m     12\u001b[0m \u001b[0mneighborhoods_venues_sorted\u001b[0m \u001b[1;33m=\u001b[0m \u001b[0mpd\u001b[0m\u001b[1;33m.\u001b[0m\u001b[0mDataFrame\u001b[0m\u001b[1;33m(\u001b[0m\u001b[0mcolumns\u001b[0m\u001b[1;33m=\u001b[0m\u001b[0mcolumns\u001b[0m\u001b[1;33m)\u001b[0m\u001b[1;33m\u001b[0m\u001b[0m\n\u001b[1;32m---> 13\u001b[1;33m \u001b[0mneighborhoods_venues_sorted\u001b[0m\u001b[1;33m[\u001b[0m\u001b[1;34m'Comuna'\u001b[0m\u001b[1;33m]\u001b[0m \u001b[1;33m=\u001b[0m \u001b[0mtoronto_grouped\u001b[0m\u001b[1;33m[\u001b[0m\u001b[1;34m'Comuna'\u001b[0m\u001b[1;33m]\u001b[0m\u001b[1;33m\u001b[0m\u001b[0m\n\u001b[0m\u001b[0;32m     14\u001b[0m \u001b[1;33m\u001b[0m\u001b[0m\n\u001b[0;32m     15\u001b[0m \u001b[1;32mfor\u001b[0m \u001b[0mind\u001b[0m \u001b[1;32min\u001b[0m \u001b[0mnp\u001b[0m\u001b[1;33m.\u001b[0m\u001b[0marange\u001b[0m\u001b[1;33m(\u001b[0m\u001b[0mtoronto_grouped\u001b[0m\u001b[1;33m.\u001b[0m\u001b[0mshape\u001b[0m\u001b[1;33m[\u001b[0m\u001b[1;36m0\u001b[0m\u001b[1;33m]\u001b[0m\u001b[1;33m)\u001b[0m\u001b[1;33m:\u001b[0m\u001b[1;33m\u001b[0m\u001b[0m\n",
      "\u001b[1;31mNameError\u001b[0m: name 'toronto_grouped' is not defined"
     ]
    }
   ],
   "source": [
    "num_top_venues = 10\n",
    "\n",
    "indicators = ['st', 'nd', 'rd']\n",
    "\n",
    "columns = ['Comuna']\n",
    "for ind in np.arange(num_top_venues):\n",
    "    try:\n",
    "        columns.append('{}{} Most Common Venue'.format(ind+1, indicators[ind]))\n",
    "    except:\n",
    "        columns.append('{}th Most Common Venue'.format(ind+1))\n",
    "\n",
    "neighborhoods_venues_sorted = pd.DataFrame(columns=columns)\n",
    "neighborhoods_venues_sorted['Comuna'] = toronto_grouped['Comuna']\n",
    "\n",
    "for ind in np.arange(toronto_grouped.shape[0]):\n",
    "    neighborhoods_venues_sorted.iloc[ind, 1:] = return_most_common_venues(toronto_grouped.iloc[ind, :], num_top_venues)\n",
    "\n",
    "neighborhoods_venues_sorted.head()"
   ]
  },
  {
   "cell_type": "markdown",
   "metadata": {},
   "source": [
    "## Hacemos Clusters de los resultados"
   ]
  },
  {
   "cell_type": "code",
   "execution_count": 171,
   "metadata": {},
   "outputs": [
    {
     "output_type": "error",
     "ename": "NameError",
     "evalue": "name 'santiago_grouped' is not defined",
     "traceback": [
      "\u001b[1;31m---------------------------------------------------------------------------\u001b[0m",
      "\u001b[1;31mNameError\u001b[0m                                 Traceback (most recent call last)",
      "\u001b[1;32m<ipython-input-171-9dcccc895db4>\u001b[0m in \u001b[0;36m<module>\u001b[1;34m\u001b[0m\n\u001b[0;32m      1\u001b[0m \u001b[0mkclusters\u001b[0m \u001b[1;33m=\u001b[0m \u001b[1;36m10\u001b[0m\u001b[1;33m\u001b[0m\u001b[0m\n\u001b[1;32m----> 2\u001b[1;33m \u001b[0msantiago_grouped_clustering\u001b[0m \u001b[1;33m=\u001b[0m \u001b[0msantiago_grouped\u001b[0m\u001b[1;33m.\u001b[0m\u001b[0mdrop\u001b[0m\u001b[1;33m(\u001b[0m\u001b[1;34m'Comuna'\u001b[0m\u001b[1;33m,\u001b[0m \u001b[1;36m1\u001b[0m\u001b[1;33m)\u001b[0m\u001b[1;33m\u001b[0m\u001b[0m\n\u001b[0m\u001b[0;32m      3\u001b[0m \u001b[0mkmeans\u001b[0m \u001b[1;33m=\u001b[0m \u001b[0mKMeans\u001b[0m\u001b[1;33m(\u001b[0m\u001b[0mn_clusters\u001b[0m\u001b[1;33m=\u001b[0m\u001b[0mkclusters\u001b[0m\u001b[1;33m,\u001b[0m \u001b[0mrandom_state\u001b[0m\u001b[1;33m=\u001b[0m\u001b[1;36m0\u001b[0m\u001b[1;33m)\u001b[0m\u001b[1;33m.\u001b[0m\u001b[0mfit\u001b[0m\u001b[1;33m(\u001b[0m\u001b[0msantiago_grouped_clustering\u001b[0m\u001b[1;33m)\u001b[0m\u001b[1;33m\u001b[0m\u001b[0m\n\u001b[0;32m      4\u001b[0m \u001b[1;33m\u001b[0m\u001b[0m\n\u001b[0;32m      5\u001b[0m \u001b[0mkmeans\u001b[0m\u001b[1;33m.\u001b[0m\u001b[0mlabels_\u001b[0m\u001b[1;33m[\u001b[0m\u001b[1;36m0\u001b[0m\u001b[1;33m:\u001b[0m\u001b[1;36m10\u001b[0m\u001b[1;33m]\u001b[0m\u001b[1;33m\u001b[0m\u001b[0m\n",
      "\u001b[1;31mNameError\u001b[0m: name 'santiago_grouped' is not defined"
     ]
    }
   ],
   "source": [
    "\n",
    "kclusters = 10\n",
    "santiago_grouped_clustering = santiago_grouped.drop('Comuna', 1)\n",
    "kmeans = KMeans(n_clusters=kclusters, random_state=0).fit(santiago_grouped_clustering)\n",
    "\n",
    "kmeans.labels_[0:10]"
   ]
  },
  {
   "cell_type": "code",
   "execution_count": 173,
   "metadata": {},
   "outputs": [
    {
     "output_type": "error",
     "ename": "NameError",
     "evalue": "name 'kmeans' is not defined",
     "traceback": [
      "\u001b[1;31m---------------------------------------------------------------------------\u001b[0m",
      "\u001b[1;31mNameError\u001b[0m                                 Traceback (most recent call last)",
      "\u001b[1;32m<ipython-input-173-2c0aa1e20852>\u001b[0m in \u001b[0;36m<module>\u001b[1;34m\u001b[0m\n\u001b[1;32m----> 1\u001b[1;33m \u001b[0mneighborhoods_venues_sorted\u001b[0m\u001b[1;33m.\u001b[0m\u001b[0minsert\u001b[0m\u001b[1;33m(\u001b[0m\u001b[1;36m0\u001b[0m\u001b[1;33m,\u001b[0m \u001b[1;34m'Cluster Labels'\u001b[0m\u001b[1;33m,\u001b[0m \u001b[0mkmeans\u001b[0m\u001b[1;33m.\u001b[0m\u001b[0mlabels_\u001b[0m\u001b[1;33m)\u001b[0m\u001b[1;33m\u001b[0m\u001b[0m\n\u001b[0m\u001b[0;32m      2\u001b[0m \u001b[1;33m\u001b[0m\u001b[0m\n\u001b[0;32m      3\u001b[0m \u001b[0msantiago_merged\u001b[0m \u001b[1;33m=\u001b[0m \u001b[0msantiago_data\u001b[0m\u001b[1;33m\u001b[0m\u001b[0m\n\u001b[0;32m      4\u001b[0m \u001b[1;33m\u001b[0m\u001b[0m\n\u001b[0;32m      5\u001b[0m \u001b[0msantiago_merged\u001b[0m \u001b[1;33m=\u001b[0m \u001b[0msantiago_merged\u001b[0m\u001b[1;33m.\u001b[0m\u001b[0mjoin\u001b[0m\u001b[1;33m(\u001b[0m\u001b[0mneighborhoods_venues_sorted\u001b[0m\u001b[1;33m.\u001b[0m\u001b[0mset_index\u001b[0m\u001b[1;33m(\u001b[0m\u001b[1;34m'Comuna'\u001b[0m\u001b[1;33m)\u001b[0m\u001b[1;33m,\u001b[0m \u001b[0mon\u001b[0m\u001b[1;33m=\u001b[0m\u001b[1;34m'Neighborhood'\u001b[0m\u001b[1;33m)\u001b[0m\u001b[1;33m\u001b[0m\u001b[0m\n",
      "\u001b[1;31mNameError\u001b[0m: name 'kmeans' is not defined"
     ]
    }
   ],
   "source": [
    "neighborhoods_venues_sorted.insert(0, 'Cluster Labels', kmeans.labels_)\n",
    "\n",
    "santiago_merged = santiago_data\n",
    "\n",
    "santiago_merged = santiago_merged.join(neighborhoods_venues_sorted.set_index('Comuna'), on='Neighborhood')\n",
    "\n",
    "santiago_merged.head()"
   ]
  },
  {
   "cell_type": "code",
   "execution_count": null,
   "metadata": {},
   "outputs": [],
   "source": []
  }
 ]
}