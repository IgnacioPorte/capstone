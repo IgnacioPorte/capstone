{
 "metadata": {
  "language_info": {
   "codemirror_mode": {
    "name": "ipython",
    "version": 3
   },
   "file_extension": ".py",
   "mimetype": "text/x-python",
   "name": "python",
   "nbconvert_exporter": "python",
   "pygments_lexer": "ipython3",
   "version": 3
  },
  "orig_nbformat": 2
 },
 "nbformat": 4,
 "nbformat_minor": 2,
 "cells": [
  {
   "cell_type": "markdown",
   "metadata": {},
   "source": [
    "# Analysis of Communes in Santiago,  Chile"
   ]
  },
  {
   "cell_type": "markdown",
   "metadata": {},
   "source": [
    "\n",
    "# Introduction\n",
    "## 1.1. Background\n",
    "In Santiago de Chile there are a lot of good places to live. I want to analyze the best places to live with the average budget of a Chilean. The demand is high in the capital so we'll see the best cluster to classify neighborhoods.\n",
    "## 1.2 Problem\n",
    "There are a lot of neighborhoods. To choose the better on with need to see a lot of other variables such as housing prices and schools ratings. Then. choose the best neighborhood to live in.\n"
   ]
  },
  {
   "cell_type": "markdown",
   "metadata": {},
   "source": [
    "# Data\n",
    "## 2.1. Data Collection\n",
    "After consideration of wich data set to use, i'll use a similar postal code, Lattitude and Longitute dataset that i used in the last week.\n",
    "The result will be neighborhoods clusters separted by k-means algorithm wich similar characteristics."
   ]
  },
  {
   "cell_type": "markdown",
   "metadata": {},
   "source": [
    "## Methodology\n",
    "## 3.1\n",
    "There are a lot of communes in Santiago. To choose the better on with need to see a lot of other variables such as housing prices and schools ratings. Then. choose the best neighborhood to live in. In first place I scraped the data from wikipedia, then i preprocessed the data   with pandas to get the info that I want. When the data was preprocessed i used the Foursquare API to find venues near the coordinates of each commune of Santiago de Chile. Finally y used the Clusters k-means algorithm to classify differents types of Communes with similar characteristics."
   ]
  },
  {
   "cell_type": "markdown",
   "metadata": {},
   "source": [
    "# Results\n",
    "## 4.1\n",
    "Among the information that I was able to extract from wikipedia by scraping were the communes of all of Chile along with the region to which they belonged and the geographical coordinates, latitude and longitude. From this information with the API I was able to get more than 600 different places near the communes, places of which had a certain pattern of appearance in some communes that when classifying the communes through Clusters came to light."
   ]
  },
  {
   "cell_type": "markdown",
   "metadata": {},
   "source": [
    "# Discussion \n",
    "## 5.1\n",
    "In this project we can realize how geographically the communes of Santiago have various similar patterns among them, such as the predominant lifestyle in the sector, relating it to the places that are most repeated in the commune and generating a group of communes with similar characteristics, being able to recognize the best commune for the user around what he wants."
   ]
  },
  {
   "cell_type": "markdown",
   "metadata": {},
   "source": [
    "# Conclusion \n",
    "## 6.1"
   ]
  },
  {
   "cell_type": "markdown",
   "metadata": {},
   "source": [
    "In this report we scraped data from wikipedia to get the communes of Santiago de Chile and the we used that data to get info of the venues near de communes with the Foursquare API data and apply k-means to cluster the communes to find the most common venues in each commune. With this info We were able to find the best commune to live based on the lifestyle, and needs of the Chilean."
   ]
  }
 ]
}