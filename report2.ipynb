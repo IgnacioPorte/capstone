{
 "metadata": {
  "language_info": {
   "codemirror_mode": {
    "name": "ipython",
    "version": 3
   },
   "file_extension": ".py",
   "mimetype": "text/x-python",
   "name": "python",
   "nbconvert_exporter": "python",
   "pygments_lexer": "ipython3",
   "version": 3
  },
  "orig_nbformat": 2
 },
 "nbformat": 4,
 "nbformat_minor": 2,
 "cells": [
  {
   "cell_type": "markdown",
   "metadata": {},
   "source": [
    "# Analysis of Communes in Santiago,  Chile"
   ]
  },
  {
   "cell_type": "markdown",
   "metadata": {},
   "source": [
    "\n",
    "# Introduction\n",
    "## 1.1. Background\n",
    "In Santiago de Chile there are a lot of good places to live. I want to analyze the best places to live with the average budget of a Chilean. The demand is high in the capital so we'll see the best cluster to classify neighborhoods.\n",
    "## 1.2 Problem\n",
    "There are a lot of neighborhoods. To choose the better on with need to see a lot of other variables such as housing prices and schools ratings. Then. choose the best neighborhood to live in.\n"
   ]
  },
  {
   "cell_type": "markdown",
   "metadata": {},
   "source": [
    "# Data\n",
    "## 2.1. Data Collection\n",
    "After consideration of wich data set to use, i'll use a similar postal code, Lattitude and Longitute dataset that i used in the last week.\n",
    "The result will be neighborhoods clusters separted by k-means algorithm wich similar characteristics."
   ]
  },
  {
   "cell_type": "markdown",
   "metadata": {},
   "source": [
    "## Methodology\n",
    "There are a lot of communes in Santiago. To choose the better on with need to see a lot of other variables such as housing prices and schools ratings. Then. choose the best neighborhood to live in."
   ]
  },
  {
   "cell_type": "markdown",
   "metadata": {},
   "source": [
    "# Results\n",
    "Entre la información que pude extraer de wikipedia haciendo scraping se encontraban las comunas de todo Chile junto con la región a la que pertenecían y las coordenadas geográficas, latitud y longitud"
   ]
  },
  {
   "cell_type": "markdown",
   "metadata": {},
   "source": [
    "# Discussion "
   ]
  },
  {
   "cell_type": "markdown",
   "metadata": {},
   "source": [
    "# Conclusion "
   ]
  },
  {
   "cell_type": "code",
   "execution_count": null,
   "metadata": {},
   "outputs": [],
   "source": []
  }
 ]
}